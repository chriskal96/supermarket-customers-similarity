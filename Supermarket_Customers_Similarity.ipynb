{
  "nbformat": 4,
  "nbformat_minor": 0,
  "metadata": {
    "kernelspec": {
      "display_name": "Python 3",
      "language": "python",
      "name": "python3"
    },
    "language_info": {
      "codemirror_mode": {
        "name": "ipython",
        "version": 3
      },
      "file_extension": ".py",
      "mimetype": "text/x-python",
      "name": "python",
      "nbconvert_exporter": "python",
      "pygments_lexer": "ipython3",
      "version": "3.8.3"
    },
    "colab": {
      "name": "Supermarket_Customers_Similarity.ipynb",
      "provenance": []
    }
  },
  "cells": [
    {
      "cell_type": "markdown",
      "metadata": {
        "id": "xdo0TDAGCqQ_"
      },
      "source": [
        "# Data Mining – Assignment 1\n",
        "#### Department of Management Science and Technology \n",
        "#### Master in Business Analytics \n",
        "#### Athens University of Economics and Business\n",
        "---\n",
        ">Christos Kallaras, p2822009 <br />\n",
        "\n",
        "In this assignment we will implement a simple workflow that will assess the similarity\n",
        "between supermarket customers. Then we will use these results to predict the rating of a customer. "
      ]
    },
    {
      "cell_type": "code",
      "metadata": {
        "id": "vKoRSVwLCqRG"
      },
      "source": [
        "import pandas as pd\n",
        "import numpy as np\n",
        "import matplotlib\n",
        "from tabulate import tabulate"
      ],
      "execution_count": null,
      "outputs": []
    },
    {
      "cell_type": "markdown",
      "metadata": {
        "id": "fikH4hQ6CqRH"
      },
      "source": [
        "Note : In order to run the paper correctly enter the path of the file in this literal."
      ]
    },
    {
      "cell_type": "code",
      "metadata": {
        "id": "rG6FeUZSCqRI"
      },
      "source": [
        "path = 'C:/Users/Christos Kallaras/Desktop/Master/1st Year/3rd Trimester/Mining Big Datasets/1st Assignment/'"
      ],
      "execution_count": null,
      "outputs": []
    },
    {
      "cell_type": "code",
      "metadata": {
        "id": "Szg__NSMCqRI",
        "outputId": "cdd43409-070c-4842-c618-70805416f0b2"
      },
      "source": [
        "#Read the file\n",
        "groceries = pd.read_csv(path + 'groceries.csv',sep=\";\")\n",
        "print(groceries.shape)\n",
        "groceries.head(20)"
      ],
      "execution_count": null,
      "outputs": [
        {
          "name": "stdout",
          "output_type": "stream",
          "text": [
            "(10000, 10)\n"
          ]
        },
        {
          "data": {
            "text/html": [
              "<div>\n",
              "<style scoped>\n",
              "    .dataframe tbody tr th:only-of-type {\n",
              "        vertical-align: middle;\n",
              "    }\n",
              "\n",
              "    .dataframe tbody tr th {\n",
              "        vertical-align: top;\n",
              "    }\n",
              "\n",
              "    .dataframe thead th {\n",
              "        text-align: right;\n",
              "    }\n",
              "</style>\n",
              "<table border=\"1\" class=\"dataframe\">\n",
              "  <thead>\n",
              "    <tr style=\"text-align: right;\">\n",
              "      <th></th>\n",
              "      <th>Customer_ID</th>\n",
              "      <th>Age</th>\n",
              "      <th>Sex</th>\n",
              "      <th>Marital_Status</th>\n",
              "      <th>Education</th>\n",
              "      <th>Income</th>\n",
              "      <th>Customer_Rating</th>\n",
              "      <th>Persons_in_Household</th>\n",
              "      <th>Occupation</th>\n",
              "      <th>Groceries</th>\n",
              "    </tr>\n",
              "  </thead>\n",
              "  <tbody>\n",
              "    <tr>\n",
              "      <th>0</th>\n",
              "      <td>1</td>\n",
              "      <td>75</td>\n",
              "      <td>male</td>\n",
              "      <td>married</td>\n",
              "      <td>primary</td>\n",
              "      <td>20000</td>\n",
              "      <td>very_good</td>\n",
              "      <td>3</td>\n",
              "      <td>retired</td>\n",
              "      <td>citrus fruit,semi-finished bread,margarine,rea...</td>\n",
              "    </tr>\n",
              "    <tr>\n",
              "      <th>1</th>\n",
              "      <td>2</td>\n",
              "      <td>61</td>\n",
              "      <td>female</td>\n",
              "      <td>single</td>\n",
              "      <td>secondary</td>\n",
              "      <td>28000</td>\n",
              "      <td>good</td>\n",
              "      <td>1</td>\n",
              "      <td>housemaid</td>\n",
              "      <td>tropical fruit,yogurt,coffee</td>\n",
              "    </tr>\n",
              "    <tr>\n",
              "      <th>2</th>\n",
              "      <td>3</td>\n",
              "      <td>32</td>\n",
              "      <td>male</td>\n",
              "      <td>single</td>\n",
              "      <td>secondary</td>\n",
              "      <td>34000</td>\n",
              "      <td>very_good</td>\n",
              "      <td>1</td>\n",
              "      <td>blue-collar</td>\n",
              "      <td>whole milk</td>\n",
              "    </tr>\n",
              "    <tr>\n",
              "      <th>3</th>\n",
              "      <td>4</td>\n",
              "      <td>62</td>\n",
              "      <td>male</td>\n",
              "      <td>married</td>\n",
              "      <td>primary</td>\n",
              "      <td>31000</td>\n",
              "      <td>very_good</td>\n",
              "      <td>3</td>\n",
              "      <td>blue-collar</td>\n",
              "      <td>pip fruit,yogurt,cream cheese,meat spreads</td>\n",
              "    </tr>\n",
              "    <tr>\n",
              "      <th>4</th>\n",
              "      <td>5</td>\n",
              "      <td>66</td>\n",
              "      <td>female</td>\n",
              "      <td>married</td>\n",
              "      <td>secondary</td>\n",
              "      <td>19000</td>\n",
              "      <td>good</td>\n",
              "      <td>3</td>\n",
              "      <td>retired</td>\n",
              "      <td>other vegetables,whole milk,condensed milk,lon...</td>\n",
              "    </tr>\n",
              "    <tr>\n",
              "      <th>5</th>\n",
              "      <td>6</td>\n",
              "      <td>55</td>\n",
              "      <td>female</td>\n",
              "      <td>single</td>\n",
              "      <td>secondary</td>\n",
              "      <td>35000</td>\n",
              "      <td>very_good</td>\n",
              "      <td>1</td>\n",
              "      <td>unemployed</td>\n",
              "      <td>whole milk,butter,yogurt,rice,abrasive cleaner</td>\n",
              "    </tr>\n",
              "    <tr>\n",
              "      <th>6</th>\n",
              "      <td>7</td>\n",
              "      <td>23</td>\n",
              "      <td>female</td>\n",
              "      <td>married</td>\n",
              "      <td>tertiary</td>\n",
              "      <td>21000</td>\n",
              "      <td>good</td>\n",
              "      <td>3</td>\n",
              "      <td>housemaid</td>\n",
              "      <td>rolls/buns</td>\n",
              "    </tr>\n",
              "    <tr>\n",
              "      <th>7</th>\n",
              "      <td>8</td>\n",
              "      <td>26</td>\n",
              "      <td>female</td>\n",
              "      <td>single</td>\n",
              "      <td>secondary</td>\n",
              "      <td>30000</td>\n",
              "      <td>good</td>\n",
              "      <td>2</td>\n",
              "      <td>blue-collar</td>\n",
              "      <td>other vegetables,UHT-milk,rolls/buns,bottled b...</td>\n",
              "    </tr>\n",
              "    <tr>\n",
              "      <th>8</th>\n",
              "      <td>9</td>\n",
              "      <td>29</td>\n",
              "      <td>female</td>\n",
              "      <td>married</td>\n",
              "      <td>secondary</td>\n",
              "      <td>32000</td>\n",
              "      <td>very_good</td>\n",
              "      <td>3</td>\n",
              "      <td>blue-collar</td>\n",
              "      <td>potted plants</td>\n",
              "    </tr>\n",
              "    <tr>\n",
              "      <th>9</th>\n",
              "      <td>10</td>\n",
              "      <td>57</td>\n",
              "      <td>female</td>\n",
              "      <td>married</td>\n",
              "      <td>secondary</td>\n",
              "      <td>26000</td>\n",
              "      <td>good</td>\n",
              "      <td>3</td>\n",
              "      <td>entrepreneur</td>\n",
              "      <td>whole milk,cereals</td>\n",
              "    </tr>\n",
              "    <tr>\n",
              "      <th>10</th>\n",
              "      <td>11</td>\n",
              "      <td>55</td>\n",
              "      <td>female</td>\n",
              "      <td>married</td>\n",
              "      <td>tertiary</td>\n",
              "      <td>30000</td>\n",
              "      <td>very_good</td>\n",
              "      <td>2</td>\n",
              "      <td>entrepreneur</td>\n",
              "      <td>tropical fruit,other vegetables,white bread,bo...</td>\n",
              "    </tr>\n",
              "    <tr>\n",
              "      <th>11</th>\n",
              "      <td>12</td>\n",
              "      <td>57</td>\n",
              "      <td>female</td>\n",
              "      <td>married</td>\n",
              "      <td>tertiary</td>\n",
              "      <td>14000</td>\n",
              "      <td>very_good</td>\n",
              "      <td>3</td>\n",
              "      <td>blue-collar</td>\n",
              "      <td>citrus fruit,tropical fruit,whole milk,butter,...</td>\n",
              "    </tr>\n",
              "    <tr>\n",
              "      <th>12</th>\n",
              "      <td>13</td>\n",
              "      <td>28</td>\n",
              "      <td>male</td>\n",
              "      <td>divorced</td>\n",
              "      <td>tertiary</td>\n",
              "      <td>30000</td>\n",
              "      <td>fair</td>\n",
              "      <td>1</td>\n",
              "      <td>self-employed</td>\n",
              "      <td>beef</td>\n",
              "    </tr>\n",
              "    <tr>\n",
              "      <th>13</th>\n",
              "      <td>14</td>\n",
              "      <td>40</td>\n",
              "      <td>male</td>\n",
              "      <td>married</td>\n",
              "      <td>primary</td>\n",
              "      <td>13000</td>\n",
              "      <td>fair</td>\n",
              "      <td>3</td>\n",
              "      <td>entrepreneur</td>\n",
              "      <td>frankfurter,rolls/buns,soda</td>\n",
              "    </tr>\n",
              "    <tr>\n",
              "      <th>14</th>\n",
              "      <td>15</td>\n",
              "      <td>53</td>\n",
              "      <td>female</td>\n",
              "      <td>divorced</td>\n",
              "      <td>tertiary</td>\n",
              "      <td>9000</td>\n",
              "      <td>very_good</td>\n",
              "      <td>1</td>\n",
              "      <td>entrepreneur</td>\n",
              "      <td>chicken,tropical fruit</td>\n",
              "    </tr>\n",
              "    <tr>\n",
              "      <th>15</th>\n",
              "      <td>16</td>\n",
              "      <td></td>\n",
              "      <td>female</td>\n",
              "      <td>married</td>\n",
              "      <td>tertiary</td>\n",
              "      <td>25000</td>\n",
              "      <td>good</td>\n",
              "      <td>4</td>\n",
              "      <td>entrepreneur</td>\n",
              "      <td>butter,sugar,fruit/vegetable juice,newspapers</td>\n",
              "    </tr>\n",
              "    <tr>\n",
              "      <th>16</th>\n",
              "      <td>17</td>\n",
              "      <td>68</td>\n",
              "      <td>female</td>\n",
              "      <td>married</td>\n",
              "      <td>secondary</td>\n",
              "      <td></td>\n",
              "      <td>good</td>\n",
              "      <td>3</td>\n",
              "      <td>retired</td>\n",
              "      <td>fruit/vegetable juice</td>\n",
              "    </tr>\n",
              "    <tr>\n",
              "      <th>17</th>\n",
              "      <td>18</td>\n",
              "      <td>32</td>\n",
              "      <td>male</td>\n",
              "      <td>married</td>\n",
              "      <td>primary</td>\n",
              "      <td>16000</td>\n",
              "      <td>very_good</td>\n",
              "      <td>3</td>\n",
              "      <td>entrepreneur</td>\n",
              "      <td>packaged fruit/vegetables</td>\n",
              "    </tr>\n",
              "    <tr>\n",
              "      <th>18</th>\n",
              "      <td>19</td>\n",
              "      <td>33</td>\n",
              "      <td>male</td>\n",
              "      <td>single</td>\n",
              "      <td>primary</td>\n",
              "      <td>18000</td>\n",
              "      <td>very_good</td>\n",
              "      <td>1</td>\n",
              "      <td>blue-collar</td>\n",
              "      <td>chocolate</td>\n",
              "    </tr>\n",
              "    <tr>\n",
              "      <th>19</th>\n",
              "      <td>20</td>\n",
              "      <td>23</td>\n",
              "      <td>male</td>\n",
              "      <td>married</td>\n",
              "      <td>tertiary</td>\n",
              "      <td>23000</td>\n",
              "      <td>fair</td>\n",
              "      <td>3</td>\n",
              "      <td>entrepreneur</td>\n",
              "      <td>specialty bar</td>\n",
              "    </tr>\n",
              "  </tbody>\n",
              "</table>\n",
              "</div>"
            ],
            "text/plain": [
              "    Customer_ID Age     Sex Marital_Status  Education Income Customer_Rating  \\\n",
              "0             1  75    male        married    primary  20000       very_good   \n",
              "1             2  61  female         single  secondary  28000            good   \n",
              "2             3  32    male         single  secondary  34000       very_good   \n",
              "3             4  62    male        married    primary  31000       very_good   \n",
              "4             5  66  female        married  secondary  19000            good   \n",
              "5             6  55  female         single  secondary  35000       very_good   \n",
              "6             7  23  female        married   tertiary  21000            good   \n",
              "7             8  26  female         single  secondary  30000            good   \n",
              "8             9  29  female        married  secondary  32000       very_good   \n",
              "9            10  57  female        married  secondary  26000            good   \n",
              "10           11  55  female        married   tertiary  30000       very_good   \n",
              "11           12  57  female        married   tertiary  14000       very_good   \n",
              "12           13  28    male       divorced   tertiary  30000            fair   \n",
              "13           14  40    male        married    primary  13000            fair   \n",
              "14           15  53  female       divorced   tertiary   9000       very_good   \n",
              "15           16      female        married   tertiary  25000            good   \n",
              "16           17  68  female        married  secondary                   good   \n",
              "17           18  32    male        married    primary  16000       very_good   \n",
              "18           19  33    male         single    primary  18000       very_good   \n",
              "19           20  23    male        married   tertiary  23000            fair   \n",
              "\n",
              "    Persons_in_Household     Occupation  \\\n",
              "0                      3        retired   \n",
              "1                      1      housemaid   \n",
              "2                      1    blue-collar   \n",
              "3                      3    blue-collar   \n",
              "4                      3        retired   \n",
              "5                      1     unemployed   \n",
              "6                      3      housemaid   \n",
              "7                      2    blue-collar   \n",
              "8                      3    blue-collar   \n",
              "9                      3   entrepreneur   \n",
              "10                     2   entrepreneur   \n",
              "11                     3    blue-collar   \n",
              "12                     1  self-employed   \n",
              "13                     3   entrepreneur   \n",
              "14                     1   entrepreneur   \n",
              "15                     4   entrepreneur   \n",
              "16                     3        retired   \n",
              "17                     3   entrepreneur   \n",
              "18                     1    blue-collar   \n",
              "19                     3   entrepreneur   \n",
              "\n",
              "                                            Groceries  \n",
              "0   citrus fruit,semi-finished bread,margarine,rea...  \n",
              "1                        tropical fruit,yogurt,coffee  \n",
              "2                                          whole milk  \n",
              "3          pip fruit,yogurt,cream cheese,meat spreads  \n",
              "4   other vegetables,whole milk,condensed milk,lon...  \n",
              "5      whole milk,butter,yogurt,rice,abrasive cleaner  \n",
              "6                                          rolls/buns  \n",
              "7   other vegetables,UHT-milk,rolls/buns,bottled b...  \n",
              "8                                       potted plants  \n",
              "9                                  whole milk,cereals  \n",
              "10  tropical fruit,other vegetables,white bread,bo...  \n",
              "11  citrus fruit,tropical fruit,whole milk,butter,...  \n",
              "12                                               beef  \n",
              "13                        frankfurter,rolls/buns,soda  \n",
              "14                             chicken,tropical fruit  \n",
              "15      butter,sugar,fruit/vegetable juice,newspapers  \n",
              "16                              fruit/vegetable juice  \n",
              "17                          packaged fruit/vegetables  \n",
              "18                                          chocolate  \n",
              "19                                      specialty bar  "
            ]
          },
          "execution_count": 17,
          "metadata": {},
          "output_type": "execute_result"
        }
      ]
    },
    {
      "cell_type": "code",
      "metadata": {
        "id": "ANcORghMCqRJ",
        "outputId": "ce7a80be-fe2f-4bcf-9e54-009f28e22121"
      },
      "source": [
        "groceries.dtypes"
      ],
      "execution_count": null,
      "outputs": [
        {
          "data": {
            "text/plain": [
              "Customer_ID              int64\n",
              "Age                     object\n",
              "Sex                     object\n",
              "Marital_Status          object\n",
              "Education               object\n",
              "Income                  object\n",
              "Customer_Rating         object\n",
              "Persons_in_Household     int64\n",
              "Occupation              object\n",
              "Groceries               object\n",
              "dtype: object"
            ]
          },
          "execution_count": 18,
          "metadata": {},
          "output_type": "execute_result"
        }
      ]
    },
    {
      "cell_type": "markdown",
      "metadata": {
        "id": "WiVosJsDCqRK"
      },
      "source": [
        "The missing values are whitespace ,not null so in order to transform them we replace them with 0."
      ]
    },
    {
      "cell_type": "code",
      "metadata": {
        "scrolled": false,
        "id": "CA5VnXKrCqRK",
        "outputId": "d435752e-1797-4d6d-a9be-9b7e374a1f1a"
      },
      "source": [
        "groceries['Age'] = np.where((groceries.Age == ' '),'0',groceries.Age)\n",
        "groceries['Income'] = np.where((groceries.Income == ' '),'0',groceries.Income)\n",
        "groceries.head(20)"
      ],
      "execution_count": null,
      "outputs": [
        {
          "data": {
            "text/html": [
              "<div>\n",
              "<style scoped>\n",
              "    .dataframe tbody tr th:only-of-type {\n",
              "        vertical-align: middle;\n",
              "    }\n",
              "\n",
              "    .dataframe tbody tr th {\n",
              "        vertical-align: top;\n",
              "    }\n",
              "\n",
              "    .dataframe thead th {\n",
              "        text-align: right;\n",
              "    }\n",
              "</style>\n",
              "<table border=\"1\" class=\"dataframe\">\n",
              "  <thead>\n",
              "    <tr style=\"text-align: right;\">\n",
              "      <th></th>\n",
              "      <th>Customer_ID</th>\n",
              "      <th>Age</th>\n",
              "      <th>Sex</th>\n",
              "      <th>Marital_Status</th>\n",
              "      <th>Education</th>\n",
              "      <th>Income</th>\n",
              "      <th>Customer_Rating</th>\n",
              "      <th>Persons_in_Household</th>\n",
              "      <th>Occupation</th>\n",
              "      <th>Groceries</th>\n",
              "    </tr>\n",
              "  </thead>\n",
              "  <tbody>\n",
              "    <tr>\n",
              "      <th>0</th>\n",
              "      <td>1</td>\n",
              "      <td>75</td>\n",
              "      <td>male</td>\n",
              "      <td>married</td>\n",
              "      <td>primary</td>\n",
              "      <td>20000</td>\n",
              "      <td>very_good</td>\n",
              "      <td>3</td>\n",
              "      <td>retired</td>\n",
              "      <td>citrus fruit,semi-finished bread,margarine,rea...</td>\n",
              "    </tr>\n",
              "    <tr>\n",
              "      <th>1</th>\n",
              "      <td>2</td>\n",
              "      <td>61</td>\n",
              "      <td>female</td>\n",
              "      <td>single</td>\n",
              "      <td>secondary</td>\n",
              "      <td>28000</td>\n",
              "      <td>good</td>\n",
              "      <td>1</td>\n",
              "      <td>housemaid</td>\n",
              "      <td>tropical fruit,yogurt,coffee</td>\n",
              "    </tr>\n",
              "    <tr>\n",
              "      <th>2</th>\n",
              "      <td>3</td>\n",
              "      <td>32</td>\n",
              "      <td>male</td>\n",
              "      <td>single</td>\n",
              "      <td>secondary</td>\n",
              "      <td>34000</td>\n",
              "      <td>very_good</td>\n",
              "      <td>1</td>\n",
              "      <td>blue-collar</td>\n",
              "      <td>whole milk</td>\n",
              "    </tr>\n",
              "    <tr>\n",
              "      <th>3</th>\n",
              "      <td>4</td>\n",
              "      <td>62</td>\n",
              "      <td>male</td>\n",
              "      <td>married</td>\n",
              "      <td>primary</td>\n",
              "      <td>31000</td>\n",
              "      <td>very_good</td>\n",
              "      <td>3</td>\n",
              "      <td>blue-collar</td>\n",
              "      <td>pip fruit,yogurt,cream cheese,meat spreads</td>\n",
              "    </tr>\n",
              "    <tr>\n",
              "      <th>4</th>\n",
              "      <td>5</td>\n",
              "      <td>66</td>\n",
              "      <td>female</td>\n",
              "      <td>married</td>\n",
              "      <td>secondary</td>\n",
              "      <td>19000</td>\n",
              "      <td>good</td>\n",
              "      <td>3</td>\n",
              "      <td>retired</td>\n",
              "      <td>other vegetables,whole milk,condensed milk,lon...</td>\n",
              "    </tr>\n",
              "    <tr>\n",
              "      <th>5</th>\n",
              "      <td>6</td>\n",
              "      <td>55</td>\n",
              "      <td>female</td>\n",
              "      <td>single</td>\n",
              "      <td>secondary</td>\n",
              "      <td>35000</td>\n",
              "      <td>very_good</td>\n",
              "      <td>1</td>\n",
              "      <td>unemployed</td>\n",
              "      <td>whole milk,butter,yogurt,rice,abrasive cleaner</td>\n",
              "    </tr>\n",
              "    <tr>\n",
              "      <th>6</th>\n",
              "      <td>7</td>\n",
              "      <td>23</td>\n",
              "      <td>female</td>\n",
              "      <td>married</td>\n",
              "      <td>tertiary</td>\n",
              "      <td>21000</td>\n",
              "      <td>good</td>\n",
              "      <td>3</td>\n",
              "      <td>housemaid</td>\n",
              "      <td>rolls/buns</td>\n",
              "    </tr>\n",
              "    <tr>\n",
              "      <th>7</th>\n",
              "      <td>8</td>\n",
              "      <td>26</td>\n",
              "      <td>female</td>\n",
              "      <td>single</td>\n",
              "      <td>secondary</td>\n",
              "      <td>30000</td>\n",
              "      <td>good</td>\n",
              "      <td>2</td>\n",
              "      <td>blue-collar</td>\n",
              "      <td>other vegetables,UHT-milk,rolls/buns,bottled b...</td>\n",
              "    </tr>\n",
              "    <tr>\n",
              "      <th>8</th>\n",
              "      <td>9</td>\n",
              "      <td>29</td>\n",
              "      <td>female</td>\n",
              "      <td>married</td>\n",
              "      <td>secondary</td>\n",
              "      <td>32000</td>\n",
              "      <td>very_good</td>\n",
              "      <td>3</td>\n",
              "      <td>blue-collar</td>\n",
              "      <td>potted plants</td>\n",
              "    </tr>\n",
              "    <tr>\n",
              "      <th>9</th>\n",
              "      <td>10</td>\n",
              "      <td>57</td>\n",
              "      <td>female</td>\n",
              "      <td>married</td>\n",
              "      <td>secondary</td>\n",
              "      <td>26000</td>\n",
              "      <td>good</td>\n",
              "      <td>3</td>\n",
              "      <td>entrepreneur</td>\n",
              "      <td>whole milk,cereals</td>\n",
              "    </tr>\n",
              "    <tr>\n",
              "      <th>10</th>\n",
              "      <td>11</td>\n",
              "      <td>55</td>\n",
              "      <td>female</td>\n",
              "      <td>married</td>\n",
              "      <td>tertiary</td>\n",
              "      <td>30000</td>\n",
              "      <td>very_good</td>\n",
              "      <td>2</td>\n",
              "      <td>entrepreneur</td>\n",
              "      <td>tropical fruit,other vegetables,white bread,bo...</td>\n",
              "    </tr>\n",
              "    <tr>\n",
              "      <th>11</th>\n",
              "      <td>12</td>\n",
              "      <td>57</td>\n",
              "      <td>female</td>\n",
              "      <td>married</td>\n",
              "      <td>tertiary</td>\n",
              "      <td>14000</td>\n",
              "      <td>very_good</td>\n",
              "      <td>3</td>\n",
              "      <td>blue-collar</td>\n",
              "      <td>citrus fruit,tropical fruit,whole milk,butter,...</td>\n",
              "    </tr>\n",
              "    <tr>\n",
              "      <th>12</th>\n",
              "      <td>13</td>\n",
              "      <td>28</td>\n",
              "      <td>male</td>\n",
              "      <td>divorced</td>\n",
              "      <td>tertiary</td>\n",
              "      <td>30000</td>\n",
              "      <td>fair</td>\n",
              "      <td>1</td>\n",
              "      <td>self-employed</td>\n",
              "      <td>beef</td>\n",
              "    </tr>\n",
              "    <tr>\n",
              "      <th>13</th>\n",
              "      <td>14</td>\n",
              "      <td>40</td>\n",
              "      <td>male</td>\n",
              "      <td>married</td>\n",
              "      <td>primary</td>\n",
              "      <td>13000</td>\n",
              "      <td>fair</td>\n",
              "      <td>3</td>\n",
              "      <td>entrepreneur</td>\n",
              "      <td>frankfurter,rolls/buns,soda</td>\n",
              "    </tr>\n",
              "    <tr>\n",
              "      <th>14</th>\n",
              "      <td>15</td>\n",
              "      <td>53</td>\n",
              "      <td>female</td>\n",
              "      <td>divorced</td>\n",
              "      <td>tertiary</td>\n",
              "      <td>9000</td>\n",
              "      <td>very_good</td>\n",
              "      <td>1</td>\n",
              "      <td>entrepreneur</td>\n",
              "      <td>chicken,tropical fruit</td>\n",
              "    </tr>\n",
              "    <tr>\n",
              "      <th>15</th>\n",
              "      <td>16</td>\n",
              "      <td>0</td>\n",
              "      <td>female</td>\n",
              "      <td>married</td>\n",
              "      <td>tertiary</td>\n",
              "      <td>25000</td>\n",
              "      <td>good</td>\n",
              "      <td>4</td>\n",
              "      <td>entrepreneur</td>\n",
              "      <td>butter,sugar,fruit/vegetable juice,newspapers</td>\n",
              "    </tr>\n",
              "    <tr>\n",
              "      <th>16</th>\n",
              "      <td>17</td>\n",
              "      <td>68</td>\n",
              "      <td>female</td>\n",
              "      <td>married</td>\n",
              "      <td>secondary</td>\n",
              "      <td>0</td>\n",
              "      <td>good</td>\n",
              "      <td>3</td>\n",
              "      <td>retired</td>\n",
              "      <td>fruit/vegetable juice</td>\n",
              "    </tr>\n",
              "    <tr>\n",
              "      <th>17</th>\n",
              "      <td>18</td>\n",
              "      <td>32</td>\n",
              "      <td>male</td>\n",
              "      <td>married</td>\n",
              "      <td>primary</td>\n",
              "      <td>16000</td>\n",
              "      <td>very_good</td>\n",
              "      <td>3</td>\n",
              "      <td>entrepreneur</td>\n",
              "      <td>packaged fruit/vegetables</td>\n",
              "    </tr>\n",
              "    <tr>\n",
              "      <th>18</th>\n",
              "      <td>19</td>\n",
              "      <td>33</td>\n",
              "      <td>male</td>\n",
              "      <td>single</td>\n",
              "      <td>primary</td>\n",
              "      <td>18000</td>\n",
              "      <td>very_good</td>\n",
              "      <td>1</td>\n",
              "      <td>blue-collar</td>\n",
              "      <td>chocolate</td>\n",
              "    </tr>\n",
              "    <tr>\n",
              "      <th>19</th>\n",
              "      <td>20</td>\n",
              "      <td>23</td>\n",
              "      <td>male</td>\n",
              "      <td>married</td>\n",
              "      <td>tertiary</td>\n",
              "      <td>23000</td>\n",
              "      <td>fair</td>\n",
              "      <td>3</td>\n",
              "      <td>entrepreneur</td>\n",
              "      <td>specialty bar</td>\n",
              "    </tr>\n",
              "  </tbody>\n",
              "</table>\n",
              "</div>"
            ],
            "text/plain": [
              "    Customer_ID Age     Sex Marital_Status  Education Income Customer_Rating  \\\n",
              "0             1  75    male        married    primary  20000       very_good   \n",
              "1             2  61  female         single  secondary  28000            good   \n",
              "2             3  32    male         single  secondary  34000       very_good   \n",
              "3             4  62    male        married    primary  31000       very_good   \n",
              "4             5  66  female        married  secondary  19000            good   \n",
              "5             6  55  female         single  secondary  35000       very_good   \n",
              "6             7  23  female        married   tertiary  21000            good   \n",
              "7             8  26  female         single  secondary  30000            good   \n",
              "8             9  29  female        married  secondary  32000       very_good   \n",
              "9            10  57  female        married  secondary  26000            good   \n",
              "10           11  55  female        married   tertiary  30000       very_good   \n",
              "11           12  57  female        married   tertiary  14000       very_good   \n",
              "12           13  28    male       divorced   tertiary  30000            fair   \n",
              "13           14  40    male        married    primary  13000            fair   \n",
              "14           15  53  female       divorced   tertiary   9000       very_good   \n",
              "15           16   0  female        married   tertiary  25000            good   \n",
              "16           17  68  female        married  secondary      0            good   \n",
              "17           18  32    male        married    primary  16000       very_good   \n",
              "18           19  33    male         single    primary  18000       very_good   \n",
              "19           20  23    male        married   tertiary  23000            fair   \n",
              "\n",
              "    Persons_in_Household     Occupation  \\\n",
              "0                      3        retired   \n",
              "1                      1      housemaid   \n",
              "2                      1    blue-collar   \n",
              "3                      3    blue-collar   \n",
              "4                      3        retired   \n",
              "5                      1     unemployed   \n",
              "6                      3      housemaid   \n",
              "7                      2    blue-collar   \n",
              "8                      3    blue-collar   \n",
              "9                      3   entrepreneur   \n",
              "10                     2   entrepreneur   \n",
              "11                     3    blue-collar   \n",
              "12                     1  self-employed   \n",
              "13                     3   entrepreneur   \n",
              "14                     1   entrepreneur   \n",
              "15                     4   entrepreneur   \n",
              "16                     3        retired   \n",
              "17                     3   entrepreneur   \n",
              "18                     1    blue-collar   \n",
              "19                     3   entrepreneur   \n",
              "\n",
              "                                            Groceries  \n",
              "0   citrus fruit,semi-finished bread,margarine,rea...  \n",
              "1                        tropical fruit,yogurt,coffee  \n",
              "2                                          whole milk  \n",
              "3          pip fruit,yogurt,cream cheese,meat spreads  \n",
              "4   other vegetables,whole milk,condensed milk,lon...  \n",
              "5      whole milk,butter,yogurt,rice,abrasive cleaner  \n",
              "6                                          rolls/buns  \n",
              "7   other vegetables,UHT-milk,rolls/buns,bottled b...  \n",
              "8                                       potted plants  \n",
              "9                                  whole milk,cereals  \n",
              "10  tropical fruit,other vegetables,white bread,bo...  \n",
              "11  citrus fruit,tropical fruit,whole milk,butter,...  \n",
              "12                                               beef  \n",
              "13                        frankfurter,rolls/buns,soda  \n",
              "14                             chicken,tropical fruit  \n",
              "15      butter,sugar,fruit/vegetable juice,newspapers  \n",
              "16                              fruit/vegetable juice  \n",
              "17                          packaged fruit/vegetables  \n",
              "18                                          chocolate  \n",
              "19                                      specialty bar  "
            ]
          },
          "execution_count": 19,
          "metadata": {},
          "output_type": "execute_result"
        }
      ]
    },
    {
      "cell_type": "markdown",
      "metadata": {
        "id": "w5AosjjqCqRL"
      },
      "source": [
        "To calculate the mean we need the numerical values to be numeric so we tranform them."
      ]
    },
    {
      "cell_type": "code",
      "metadata": {
        "id": "K715FRURCqRM",
        "outputId": "b45f0368-e35e-40cc-dd52-d02f17c450e0"
      },
      "source": [
        "groceries['Age'] = groceries['Age'].astype(str).astype(int)\n",
        "groceries['Income'] = groceries['Income'].astype(str).astype(int)\n",
        "groceries['Persons_in_Household'] = groceries['Persons_in_Household'].astype(str).astype(int)\n",
        "print(groceries.dtypes)"
      ],
      "execution_count": null,
      "outputs": [
        {
          "name": "stdout",
          "output_type": "stream",
          "text": [
            "Customer_ID              int64\n",
            "Age                      int32\n",
            "Sex                     object\n",
            "Marital_Status          object\n",
            "Education               object\n",
            "Income                   int32\n",
            "Customer_Rating         object\n",
            "Persons_in_Household     int32\n",
            "Occupation              object\n",
            "Groceries               object\n",
            "dtype: object\n"
          ]
        }
      ]
    },
    {
      "cell_type": "markdown",
      "metadata": {
        "id": "e8T3sjMcCqRM"
      },
      "source": [
        "Now we can calculate the average, by replacing 0 with the mean."
      ]
    },
    {
      "cell_type": "code",
      "metadata": {
        "id": "53pI_6bTCqRM",
        "outputId": "83eb711a-2c1e-4684-ea65-a8817c77deb6"
      },
      "source": [
        "groceries['Age'] = np.where((groceries.Age == 0),groceries.Age.mean(),groceries.Age)\n",
        "groceries['Income'] = np.where((groceries.Income == 0),groceries.Income.mean(),groceries.Income)\n",
        "groceries.head(20)"
      ],
      "execution_count": null,
      "outputs": [
        {
          "data": {
            "text/html": [
              "<div>\n",
              "<style scoped>\n",
              "    .dataframe tbody tr th:only-of-type {\n",
              "        vertical-align: middle;\n",
              "    }\n",
              "\n",
              "    .dataframe tbody tr th {\n",
              "        vertical-align: top;\n",
              "    }\n",
              "\n",
              "    .dataframe thead th {\n",
              "        text-align: right;\n",
              "    }\n",
              "</style>\n",
              "<table border=\"1\" class=\"dataframe\">\n",
              "  <thead>\n",
              "    <tr style=\"text-align: right;\">\n",
              "      <th></th>\n",
              "      <th>Customer_ID</th>\n",
              "      <th>Age</th>\n",
              "      <th>Sex</th>\n",
              "      <th>Marital_Status</th>\n",
              "      <th>Education</th>\n",
              "      <th>Income</th>\n",
              "      <th>Customer_Rating</th>\n",
              "      <th>Persons_in_Household</th>\n",
              "      <th>Occupation</th>\n",
              "      <th>Groceries</th>\n",
              "    </tr>\n",
              "  </thead>\n",
              "  <tbody>\n",
              "    <tr>\n",
              "      <th>0</th>\n",
              "      <td>1</td>\n",
              "      <td>75.0000</td>\n",
              "      <td>male</td>\n",
              "      <td>married</td>\n",
              "      <td>primary</td>\n",
              "      <td>20000.0</td>\n",
              "      <td>very_good</td>\n",
              "      <td>3</td>\n",
              "      <td>retired</td>\n",
              "      <td>citrus fruit,semi-finished bread,margarine,rea...</td>\n",
              "    </tr>\n",
              "    <tr>\n",
              "      <th>1</th>\n",
              "      <td>2</td>\n",
              "      <td>61.0000</td>\n",
              "      <td>female</td>\n",
              "      <td>single</td>\n",
              "      <td>secondary</td>\n",
              "      <td>28000.0</td>\n",
              "      <td>good</td>\n",
              "      <td>1</td>\n",
              "      <td>housemaid</td>\n",
              "      <td>tropical fruit,yogurt,coffee</td>\n",
              "    </tr>\n",
              "    <tr>\n",
              "      <th>2</th>\n",
              "      <td>3</td>\n",
              "      <td>32.0000</td>\n",
              "      <td>male</td>\n",
              "      <td>single</td>\n",
              "      <td>secondary</td>\n",
              "      <td>34000.0</td>\n",
              "      <td>very_good</td>\n",
              "      <td>1</td>\n",
              "      <td>blue-collar</td>\n",
              "      <td>whole milk</td>\n",
              "    </tr>\n",
              "    <tr>\n",
              "      <th>3</th>\n",
              "      <td>4</td>\n",
              "      <td>62.0000</td>\n",
              "      <td>male</td>\n",
              "      <td>married</td>\n",
              "      <td>primary</td>\n",
              "      <td>31000.0</td>\n",
              "      <td>very_good</td>\n",
              "      <td>3</td>\n",
              "      <td>blue-collar</td>\n",
              "      <td>pip fruit,yogurt,cream cheese,meat spreads</td>\n",
              "    </tr>\n",
              "    <tr>\n",
              "      <th>4</th>\n",
              "      <td>5</td>\n",
              "      <td>66.0000</td>\n",
              "      <td>female</td>\n",
              "      <td>married</td>\n",
              "      <td>secondary</td>\n",
              "      <td>19000.0</td>\n",
              "      <td>good</td>\n",
              "      <td>3</td>\n",
              "      <td>retired</td>\n",
              "      <td>other vegetables,whole milk,condensed milk,lon...</td>\n",
              "    </tr>\n",
              "    <tr>\n",
              "      <th>5</th>\n",
              "      <td>6</td>\n",
              "      <td>55.0000</td>\n",
              "      <td>female</td>\n",
              "      <td>single</td>\n",
              "      <td>secondary</td>\n",
              "      <td>35000.0</td>\n",
              "      <td>very_good</td>\n",
              "      <td>1</td>\n",
              "      <td>unemployed</td>\n",
              "      <td>whole milk,butter,yogurt,rice,abrasive cleaner</td>\n",
              "    </tr>\n",
              "    <tr>\n",
              "      <th>6</th>\n",
              "      <td>7</td>\n",
              "      <td>23.0000</td>\n",
              "      <td>female</td>\n",
              "      <td>married</td>\n",
              "      <td>tertiary</td>\n",
              "      <td>21000.0</td>\n",
              "      <td>good</td>\n",
              "      <td>3</td>\n",
              "      <td>housemaid</td>\n",
              "      <td>rolls/buns</td>\n",
              "    </tr>\n",
              "    <tr>\n",
              "      <th>7</th>\n",
              "      <td>8</td>\n",
              "      <td>26.0000</td>\n",
              "      <td>female</td>\n",
              "      <td>single</td>\n",
              "      <td>secondary</td>\n",
              "      <td>30000.0</td>\n",
              "      <td>good</td>\n",
              "      <td>2</td>\n",
              "      <td>blue-collar</td>\n",
              "      <td>other vegetables,UHT-milk,rolls/buns,bottled b...</td>\n",
              "    </tr>\n",
              "    <tr>\n",
              "      <th>8</th>\n",
              "      <td>9</td>\n",
              "      <td>29.0000</td>\n",
              "      <td>female</td>\n",
              "      <td>married</td>\n",
              "      <td>secondary</td>\n",
              "      <td>32000.0</td>\n",
              "      <td>very_good</td>\n",
              "      <td>3</td>\n",
              "      <td>blue-collar</td>\n",
              "      <td>potted plants</td>\n",
              "    </tr>\n",
              "    <tr>\n",
              "      <th>9</th>\n",
              "      <td>10</td>\n",
              "      <td>57.0000</td>\n",
              "      <td>female</td>\n",
              "      <td>married</td>\n",
              "      <td>secondary</td>\n",
              "      <td>26000.0</td>\n",
              "      <td>good</td>\n",
              "      <td>3</td>\n",
              "      <td>entrepreneur</td>\n",
              "      <td>whole milk,cereals</td>\n",
              "    </tr>\n",
              "    <tr>\n",
              "      <th>10</th>\n",
              "      <td>11</td>\n",
              "      <td>55.0000</td>\n",
              "      <td>female</td>\n",
              "      <td>married</td>\n",
              "      <td>tertiary</td>\n",
              "      <td>30000.0</td>\n",
              "      <td>very_good</td>\n",
              "      <td>2</td>\n",
              "      <td>entrepreneur</td>\n",
              "      <td>tropical fruit,other vegetables,white bread,bo...</td>\n",
              "    </tr>\n",
              "    <tr>\n",
              "      <th>11</th>\n",
              "      <td>12</td>\n",
              "      <td>57.0000</td>\n",
              "      <td>female</td>\n",
              "      <td>married</td>\n",
              "      <td>tertiary</td>\n",
              "      <td>14000.0</td>\n",
              "      <td>very_good</td>\n",
              "      <td>3</td>\n",
              "      <td>blue-collar</td>\n",
              "      <td>citrus fruit,tropical fruit,whole milk,butter,...</td>\n",
              "    </tr>\n",
              "    <tr>\n",
              "      <th>12</th>\n",
              "      <td>13</td>\n",
              "      <td>28.0000</td>\n",
              "      <td>male</td>\n",
              "      <td>divorced</td>\n",
              "      <td>tertiary</td>\n",
              "      <td>30000.0</td>\n",
              "      <td>fair</td>\n",
              "      <td>1</td>\n",
              "      <td>self-employed</td>\n",
              "      <td>beef</td>\n",
              "    </tr>\n",
              "    <tr>\n",
              "      <th>13</th>\n",
              "      <td>14</td>\n",
              "      <td>40.0000</td>\n",
              "      <td>male</td>\n",
              "      <td>married</td>\n",
              "      <td>primary</td>\n",
              "      <td>13000.0</td>\n",
              "      <td>fair</td>\n",
              "      <td>3</td>\n",
              "      <td>entrepreneur</td>\n",
              "      <td>frankfurter,rolls/buns,soda</td>\n",
              "    </tr>\n",
              "    <tr>\n",
              "      <th>14</th>\n",
              "      <td>15</td>\n",
              "      <td>53.0000</td>\n",
              "      <td>female</td>\n",
              "      <td>divorced</td>\n",
              "      <td>tertiary</td>\n",
              "      <td>9000.0</td>\n",
              "      <td>very_good</td>\n",
              "      <td>1</td>\n",
              "      <td>entrepreneur</td>\n",
              "      <td>chicken,tropical fruit</td>\n",
              "    </tr>\n",
              "    <tr>\n",
              "      <th>15</th>\n",
              "      <td>16</td>\n",
              "      <td>50.8568</td>\n",
              "      <td>female</td>\n",
              "      <td>married</td>\n",
              "      <td>tertiary</td>\n",
              "      <td>25000.0</td>\n",
              "      <td>good</td>\n",
              "      <td>4</td>\n",
              "      <td>entrepreneur</td>\n",
              "      <td>butter,sugar,fruit/vegetable juice,newspapers</td>\n",
              "    </tr>\n",
              "    <tr>\n",
              "      <th>16</th>\n",
              "      <td>17</td>\n",
              "      <td>68.0000</td>\n",
              "      <td>female</td>\n",
              "      <td>married</td>\n",
              "      <td>secondary</td>\n",
              "      <td>28604.2</td>\n",
              "      <td>good</td>\n",
              "      <td>3</td>\n",
              "      <td>retired</td>\n",
              "      <td>fruit/vegetable juice</td>\n",
              "    </tr>\n",
              "    <tr>\n",
              "      <th>17</th>\n",
              "      <td>18</td>\n",
              "      <td>32.0000</td>\n",
              "      <td>male</td>\n",
              "      <td>married</td>\n",
              "      <td>primary</td>\n",
              "      <td>16000.0</td>\n",
              "      <td>very_good</td>\n",
              "      <td>3</td>\n",
              "      <td>entrepreneur</td>\n",
              "      <td>packaged fruit/vegetables</td>\n",
              "    </tr>\n",
              "    <tr>\n",
              "      <th>18</th>\n",
              "      <td>19</td>\n",
              "      <td>33.0000</td>\n",
              "      <td>male</td>\n",
              "      <td>single</td>\n",
              "      <td>primary</td>\n",
              "      <td>18000.0</td>\n",
              "      <td>very_good</td>\n",
              "      <td>1</td>\n",
              "      <td>blue-collar</td>\n",
              "      <td>chocolate</td>\n",
              "    </tr>\n",
              "    <tr>\n",
              "      <th>19</th>\n",
              "      <td>20</td>\n",
              "      <td>23.0000</td>\n",
              "      <td>male</td>\n",
              "      <td>married</td>\n",
              "      <td>tertiary</td>\n",
              "      <td>23000.0</td>\n",
              "      <td>fair</td>\n",
              "      <td>3</td>\n",
              "      <td>entrepreneur</td>\n",
              "      <td>specialty bar</td>\n",
              "    </tr>\n",
              "  </tbody>\n",
              "</table>\n",
              "</div>"
            ],
            "text/plain": [
              "    Customer_ID      Age     Sex Marital_Status  Education   Income  \\\n",
              "0             1  75.0000    male        married    primary  20000.0   \n",
              "1             2  61.0000  female         single  secondary  28000.0   \n",
              "2             3  32.0000    male         single  secondary  34000.0   \n",
              "3             4  62.0000    male        married    primary  31000.0   \n",
              "4             5  66.0000  female        married  secondary  19000.0   \n",
              "5             6  55.0000  female         single  secondary  35000.0   \n",
              "6             7  23.0000  female        married   tertiary  21000.0   \n",
              "7             8  26.0000  female         single  secondary  30000.0   \n",
              "8             9  29.0000  female        married  secondary  32000.0   \n",
              "9            10  57.0000  female        married  secondary  26000.0   \n",
              "10           11  55.0000  female        married   tertiary  30000.0   \n",
              "11           12  57.0000  female        married   tertiary  14000.0   \n",
              "12           13  28.0000    male       divorced   tertiary  30000.0   \n",
              "13           14  40.0000    male        married    primary  13000.0   \n",
              "14           15  53.0000  female       divorced   tertiary   9000.0   \n",
              "15           16  50.8568  female        married   tertiary  25000.0   \n",
              "16           17  68.0000  female        married  secondary  28604.2   \n",
              "17           18  32.0000    male        married    primary  16000.0   \n",
              "18           19  33.0000    male         single    primary  18000.0   \n",
              "19           20  23.0000    male        married   tertiary  23000.0   \n",
              "\n",
              "   Customer_Rating  Persons_in_Household     Occupation  \\\n",
              "0        very_good                     3        retired   \n",
              "1             good                     1      housemaid   \n",
              "2        very_good                     1    blue-collar   \n",
              "3        very_good                     3    blue-collar   \n",
              "4             good                     3        retired   \n",
              "5        very_good                     1     unemployed   \n",
              "6             good                     3      housemaid   \n",
              "7             good                     2    blue-collar   \n",
              "8        very_good                     3    blue-collar   \n",
              "9             good                     3   entrepreneur   \n",
              "10       very_good                     2   entrepreneur   \n",
              "11       very_good                     3    blue-collar   \n",
              "12            fair                     1  self-employed   \n",
              "13            fair                     3   entrepreneur   \n",
              "14       very_good                     1   entrepreneur   \n",
              "15            good                     4   entrepreneur   \n",
              "16            good                     3        retired   \n",
              "17       very_good                     3   entrepreneur   \n",
              "18       very_good                     1    blue-collar   \n",
              "19            fair                     3   entrepreneur   \n",
              "\n",
              "                                            Groceries  \n",
              "0   citrus fruit,semi-finished bread,margarine,rea...  \n",
              "1                        tropical fruit,yogurt,coffee  \n",
              "2                                          whole milk  \n",
              "3          pip fruit,yogurt,cream cheese,meat spreads  \n",
              "4   other vegetables,whole milk,condensed milk,lon...  \n",
              "5      whole milk,butter,yogurt,rice,abrasive cleaner  \n",
              "6                                          rolls/buns  \n",
              "7   other vegetables,UHT-milk,rolls/buns,bottled b...  \n",
              "8                                       potted plants  \n",
              "9                                  whole milk,cereals  \n",
              "10  tropical fruit,other vegetables,white bread,bo...  \n",
              "11  citrus fruit,tropical fruit,whole milk,butter,...  \n",
              "12                                               beef  \n",
              "13                        frankfurter,rolls/buns,soda  \n",
              "14                             chicken,tropical fruit  \n",
              "15      butter,sugar,fruit/vegetable juice,newspapers  \n",
              "16                              fruit/vegetable juice  \n",
              "17                          packaged fruit/vegetables  \n",
              "18                                          chocolate  \n",
              "19                                      specialty bar  "
            ]
          },
          "execution_count": 21,
          "metadata": {},
          "output_type": "execute_result"
        }
      ]
    },
    {
      "cell_type": "markdown",
      "metadata": {
        "id": "_UoMKPtnCqRN"
      },
      "source": [
        "Finally we transform them to integers in order to keep only the integer part as instructed by the assingment."
      ]
    },
    {
      "cell_type": "code",
      "metadata": {
        "id": "5mQrwV7rCqRN",
        "outputId": "c667a465-e4e6-4efd-b335-59f7dbaffa02"
      },
      "source": [
        "groceries['Age'] = groceries['Age'].astype(int)\n",
        "groceries['Income'] = groceries['Income'].astype(int)\n",
        "groceries['Persons_in_Household'] = groceries['Persons_in_Household'].astype(int)\n",
        "groceries.head(20)"
      ],
      "execution_count": null,
      "outputs": [
        {
          "data": {
            "text/html": [
              "<div>\n",
              "<style scoped>\n",
              "    .dataframe tbody tr th:only-of-type {\n",
              "        vertical-align: middle;\n",
              "    }\n",
              "\n",
              "    .dataframe tbody tr th {\n",
              "        vertical-align: top;\n",
              "    }\n",
              "\n",
              "    .dataframe thead th {\n",
              "        text-align: right;\n",
              "    }\n",
              "</style>\n",
              "<table border=\"1\" class=\"dataframe\">\n",
              "  <thead>\n",
              "    <tr style=\"text-align: right;\">\n",
              "      <th></th>\n",
              "      <th>Customer_ID</th>\n",
              "      <th>Age</th>\n",
              "      <th>Sex</th>\n",
              "      <th>Marital_Status</th>\n",
              "      <th>Education</th>\n",
              "      <th>Income</th>\n",
              "      <th>Customer_Rating</th>\n",
              "      <th>Persons_in_Household</th>\n",
              "      <th>Occupation</th>\n",
              "      <th>Groceries</th>\n",
              "    </tr>\n",
              "  </thead>\n",
              "  <tbody>\n",
              "    <tr>\n",
              "      <th>0</th>\n",
              "      <td>1</td>\n",
              "      <td>75</td>\n",
              "      <td>male</td>\n",
              "      <td>married</td>\n",
              "      <td>primary</td>\n",
              "      <td>20000</td>\n",
              "      <td>very_good</td>\n",
              "      <td>3</td>\n",
              "      <td>retired</td>\n",
              "      <td>citrus fruit,semi-finished bread,margarine,rea...</td>\n",
              "    </tr>\n",
              "    <tr>\n",
              "      <th>1</th>\n",
              "      <td>2</td>\n",
              "      <td>61</td>\n",
              "      <td>female</td>\n",
              "      <td>single</td>\n",
              "      <td>secondary</td>\n",
              "      <td>28000</td>\n",
              "      <td>good</td>\n",
              "      <td>1</td>\n",
              "      <td>housemaid</td>\n",
              "      <td>tropical fruit,yogurt,coffee</td>\n",
              "    </tr>\n",
              "    <tr>\n",
              "      <th>2</th>\n",
              "      <td>3</td>\n",
              "      <td>32</td>\n",
              "      <td>male</td>\n",
              "      <td>single</td>\n",
              "      <td>secondary</td>\n",
              "      <td>34000</td>\n",
              "      <td>very_good</td>\n",
              "      <td>1</td>\n",
              "      <td>blue-collar</td>\n",
              "      <td>whole milk</td>\n",
              "    </tr>\n",
              "    <tr>\n",
              "      <th>3</th>\n",
              "      <td>4</td>\n",
              "      <td>62</td>\n",
              "      <td>male</td>\n",
              "      <td>married</td>\n",
              "      <td>primary</td>\n",
              "      <td>31000</td>\n",
              "      <td>very_good</td>\n",
              "      <td>3</td>\n",
              "      <td>blue-collar</td>\n",
              "      <td>pip fruit,yogurt,cream cheese,meat spreads</td>\n",
              "    </tr>\n",
              "    <tr>\n",
              "      <th>4</th>\n",
              "      <td>5</td>\n",
              "      <td>66</td>\n",
              "      <td>female</td>\n",
              "      <td>married</td>\n",
              "      <td>secondary</td>\n",
              "      <td>19000</td>\n",
              "      <td>good</td>\n",
              "      <td>3</td>\n",
              "      <td>retired</td>\n",
              "      <td>other vegetables,whole milk,condensed milk,lon...</td>\n",
              "    </tr>\n",
              "    <tr>\n",
              "      <th>5</th>\n",
              "      <td>6</td>\n",
              "      <td>55</td>\n",
              "      <td>female</td>\n",
              "      <td>single</td>\n",
              "      <td>secondary</td>\n",
              "      <td>35000</td>\n",
              "      <td>very_good</td>\n",
              "      <td>1</td>\n",
              "      <td>unemployed</td>\n",
              "      <td>whole milk,butter,yogurt,rice,abrasive cleaner</td>\n",
              "    </tr>\n",
              "    <tr>\n",
              "      <th>6</th>\n",
              "      <td>7</td>\n",
              "      <td>23</td>\n",
              "      <td>female</td>\n",
              "      <td>married</td>\n",
              "      <td>tertiary</td>\n",
              "      <td>21000</td>\n",
              "      <td>good</td>\n",
              "      <td>3</td>\n",
              "      <td>housemaid</td>\n",
              "      <td>rolls/buns</td>\n",
              "    </tr>\n",
              "    <tr>\n",
              "      <th>7</th>\n",
              "      <td>8</td>\n",
              "      <td>26</td>\n",
              "      <td>female</td>\n",
              "      <td>single</td>\n",
              "      <td>secondary</td>\n",
              "      <td>30000</td>\n",
              "      <td>good</td>\n",
              "      <td>2</td>\n",
              "      <td>blue-collar</td>\n",
              "      <td>other vegetables,UHT-milk,rolls/buns,bottled b...</td>\n",
              "    </tr>\n",
              "    <tr>\n",
              "      <th>8</th>\n",
              "      <td>9</td>\n",
              "      <td>29</td>\n",
              "      <td>female</td>\n",
              "      <td>married</td>\n",
              "      <td>secondary</td>\n",
              "      <td>32000</td>\n",
              "      <td>very_good</td>\n",
              "      <td>3</td>\n",
              "      <td>blue-collar</td>\n",
              "      <td>potted plants</td>\n",
              "    </tr>\n",
              "    <tr>\n",
              "      <th>9</th>\n",
              "      <td>10</td>\n",
              "      <td>57</td>\n",
              "      <td>female</td>\n",
              "      <td>married</td>\n",
              "      <td>secondary</td>\n",
              "      <td>26000</td>\n",
              "      <td>good</td>\n",
              "      <td>3</td>\n",
              "      <td>entrepreneur</td>\n",
              "      <td>whole milk,cereals</td>\n",
              "    </tr>\n",
              "    <tr>\n",
              "      <th>10</th>\n",
              "      <td>11</td>\n",
              "      <td>55</td>\n",
              "      <td>female</td>\n",
              "      <td>married</td>\n",
              "      <td>tertiary</td>\n",
              "      <td>30000</td>\n",
              "      <td>very_good</td>\n",
              "      <td>2</td>\n",
              "      <td>entrepreneur</td>\n",
              "      <td>tropical fruit,other vegetables,white bread,bo...</td>\n",
              "    </tr>\n",
              "    <tr>\n",
              "      <th>11</th>\n",
              "      <td>12</td>\n",
              "      <td>57</td>\n",
              "      <td>female</td>\n",
              "      <td>married</td>\n",
              "      <td>tertiary</td>\n",
              "      <td>14000</td>\n",
              "      <td>very_good</td>\n",
              "      <td>3</td>\n",
              "      <td>blue-collar</td>\n",
              "      <td>citrus fruit,tropical fruit,whole milk,butter,...</td>\n",
              "    </tr>\n",
              "    <tr>\n",
              "      <th>12</th>\n",
              "      <td>13</td>\n",
              "      <td>28</td>\n",
              "      <td>male</td>\n",
              "      <td>divorced</td>\n",
              "      <td>tertiary</td>\n",
              "      <td>30000</td>\n",
              "      <td>fair</td>\n",
              "      <td>1</td>\n",
              "      <td>self-employed</td>\n",
              "      <td>beef</td>\n",
              "    </tr>\n",
              "    <tr>\n",
              "      <th>13</th>\n",
              "      <td>14</td>\n",
              "      <td>40</td>\n",
              "      <td>male</td>\n",
              "      <td>married</td>\n",
              "      <td>primary</td>\n",
              "      <td>13000</td>\n",
              "      <td>fair</td>\n",
              "      <td>3</td>\n",
              "      <td>entrepreneur</td>\n",
              "      <td>frankfurter,rolls/buns,soda</td>\n",
              "    </tr>\n",
              "    <tr>\n",
              "      <th>14</th>\n",
              "      <td>15</td>\n",
              "      <td>53</td>\n",
              "      <td>female</td>\n",
              "      <td>divorced</td>\n",
              "      <td>tertiary</td>\n",
              "      <td>9000</td>\n",
              "      <td>very_good</td>\n",
              "      <td>1</td>\n",
              "      <td>entrepreneur</td>\n",
              "      <td>chicken,tropical fruit</td>\n",
              "    </tr>\n",
              "    <tr>\n",
              "      <th>15</th>\n",
              "      <td>16</td>\n",
              "      <td>50</td>\n",
              "      <td>female</td>\n",
              "      <td>married</td>\n",
              "      <td>tertiary</td>\n",
              "      <td>25000</td>\n",
              "      <td>good</td>\n",
              "      <td>4</td>\n",
              "      <td>entrepreneur</td>\n",
              "      <td>butter,sugar,fruit/vegetable juice,newspapers</td>\n",
              "    </tr>\n",
              "    <tr>\n",
              "      <th>16</th>\n",
              "      <td>17</td>\n",
              "      <td>68</td>\n",
              "      <td>female</td>\n",
              "      <td>married</td>\n",
              "      <td>secondary</td>\n",
              "      <td>28604</td>\n",
              "      <td>good</td>\n",
              "      <td>3</td>\n",
              "      <td>retired</td>\n",
              "      <td>fruit/vegetable juice</td>\n",
              "    </tr>\n",
              "    <tr>\n",
              "      <th>17</th>\n",
              "      <td>18</td>\n",
              "      <td>32</td>\n",
              "      <td>male</td>\n",
              "      <td>married</td>\n",
              "      <td>primary</td>\n",
              "      <td>16000</td>\n",
              "      <td>very_good</td>\n",
              "      <td>3</td>\n",
              "      <td>entrepreneur</td>\n",
              "      <td>packaged fruit/vegetables</td>\n",
              "    </tr>\n",
              "    <tr>\n",
              "      <th>18</th>\n",
              "      <td>19</td>\n",
              "      <td>33</td>\n",
              "      <td>male</td>\n",
              "      <td>single</td>\n",
              "      <td>primary</td>\n",
              "      <td>18000</td>\n",
              "      <td>very_good</td>\n",
              "      <td>1</td>\n",
              "      <td>blue-collar</td>\n",
              "      <td>chocolate</td>\n",
              "    </tr>\n",
              "    <tr>\n",
              "      <th>19</th>\n",
              "      <td>20</td>\n",
              "      <td>23</td>\n",
              "      <td>male</td>\n",
              "      <td>married</td>\n",
              "      <td>tertiary</td>\n",
              "      <td>23000</td>\n",
              "      <td>fair</td>\n",
              "      <td>3</td>\n",
              "      <td>entrepreneur</td>\n",
              "      <td>specialty bar</td>\n",
              "    </tr>\n",
              "  </tbody>\n",
              "</table>\n",
              "</div>"
            ],
            "text/plain": [
              "    Customer_ID  Age     Sex Marital_Status  Education  Income  \\\n",
              "0             1   75    male        married    primary   20000   \n",
              "1             2   61  female         single  secondary   28000   \n",
              "2             3   32    male         single  secondary   34000   \n",
              "3             4   62    male        married    primary   31000   \n",
              "4             5   66  female        married  secondary   19000   \n",
              "5             6   55  female         single  secondary   35000   \n",
              "6             7   23  female        married   tertiary   21000   \n",
              "7             8   26  female         single  secondary   30000   \n",
              "8             9   29  female        married  secondary   32000   \n",
              "9            10   57  female        married  secondary   26000   \n",
              "10           11   55  female        married   tertiary   30000   \n",
              "11           12   57  female        married   tertiary   14000   \n",
              "12           13   28    male       divorced   tertiary   30000   \n",
              "13           14   40    male        married    primary   13000   \n",
              "14           15   53  female       divorced   tertiary    9000   \n",
              "15           16   50  female        married   tertiary   25000   \n",
              "16           17   68  female        married  secondary   28604   \n",
              "17           18   32    male        married    primary   16000   \n",
              "18           19   33    male         single    primary   18000   \n",
              "19           20   23    male        married   tertiary   23000   \n",
              "\n",
              "   Customer_Rating  Persons_in_Household     Occupation  \\\n",
              "0        very_good                     3        retired   \n",
              "1             good                     1      housemaid   \n",
              "2        very_good                     1    blue-collar   \n",
              "3        very_good                     3    blue-collar   \n",
              "4             good                     3        retired   \n",
              "5        very_good                     1     unemployed   \n",
              "6             good                     3      housemaid   \n",
              "7             good                     2    blue-collar   \n",
              "8        very_good                     3    blue-collar   \n",
              "9             good                     3   entrepreneur   \n",
              "10       very_good                     2   entrepreneur   \n",
              "11       very_good                     3    blue-collar   \n",
              "12            fair                     1  self-employed   \n",
              "13            fair                     3   entrepreneur   \n",
              "14       very_good                     1   entrepreneur   \n",
              "15            good                     4   entrepreneur   \n",
              "16            good                     3        retired   \n",
              "17       very_good                     3   entrepreneur   \n",
              "18       very_good                     1    blue-collar   \n",
              "19            fair                     3   entrepreneur   \n",
              "\n",
              "                                            Groceries  \n",
              "0   citrus fruit,semi-finished bread,margarine,rea...  \n",
              "1                        tropical fruit,yogurt,coffee  \n",
              "2                                          whole milk  \n",
              "3          pip fruit,yogurt,cream cheese,meat spreads  \n",
              "4   other vegetables,whole milk,condensed milk,lon...  \n",
              "5      whole milk,butter,yogurt,rice,abrasive cleaner  \n",
              "6                                          rolls/buns  \n",
              "7   other vegetables,UHT-milk,rolls/buns,bottled b...  \n",
              "8                                       potted plants  \n",
              "9                                  whole milk,cereals  \n",
              "10  tropical fruit,other vegetables,white bread,bo...  \n",
              "11  citrus fruit,tropical fruit,whole milk,butter,...  \n",
              "12                                               beef  \n",
              "13                        frankfurter,rolls/buns,soda  \n",
              "14                             chicken,tropical fruit  \n",
              "15      butter,sugar,fruit/vegetable juice,newspapers  \n",
              "16                              fruit/vegetable juice  \n",
              "17                          packaged fruit/vegetables  \n",
              "18                                          chocolate  \n",
              "19                                      specialty bar  "
            ]
          },
          "execution_count": 22,
          "metadata": {},
          "output_type": "execute_result"
        }
      ]
    },
    {
      "cell_type": "markdown",
      "metadata": {
        "id": "Vhn94cUlCqRN"
      },
      "source": [
        "As we can see customer with id 15 went from not having a value to Age, to now having 50. Similar example is customer 16 and his income."
      ]
    },
    {
      "cell_type": "markdown",
      "metadata": {
        "id": "PzBufPP_CqRO"
      },
      "source": [
        "##  Compute data (dis-)similarity"
      ]
    },
    {
      "cell_type": "markdown",
      "metadata": {
        "id": "vtez1VVLCqRO"
      },
      "source": [
        "To assess the similarity between the customers we first have to distinguish the type of each attribute :\n",
        "- Age is numerical\n",
        "- Sex is categorical\n",
        "- Marital_Status is categorical\n",
        "- Education is ordinal\n",
        "- Income is numerical\n",
        "- Customer_rating is ordinal\n",
        "- Persons_in_Household is ordinal\n",
        "- Occupation is categorical\n",
        "- Groceries is set"
      ]
    },
    {
      "cell_type": "markdown",
      "metadata": {
        "id": "iFxj4eufCqRO"
      },
      "source": [
        "For the ordinal attributes we need to rank them in order to use them for our calculations."
      ]
    },
    {
      "cell_type": "code",
      "metadata": {
        "id": "qBSJaw4eCqRO",
        "outputId": "e4810905-674e-45ee-de92-b0353510f742"
      },
      "source": [
        "#check values for ordinal variables\n",
        "\n",
        "print(groceries[\"Education\"].value_counts())\n",
        "print(groceries[\"Customer_Rating\"].value_counts())\n",
        "print(groceries[\"Persons_in_Household\"].value_counts())"
      ],
      "execution_count": null,
      "outputs": [
        {
          "name": "stdout",
          "output_type": "stream",
          "text": [
            "tertiary     3384\n",
            "secondary    3358\n",
            "primary      3258\n",
            "Name: Education, dtype: int64\n",
            "good         3121\n",
            "very_good    2374\n",
            "fair         2246\n",
            "excellent    1135\n",
            "poor         1124\n",
            "Name: Customer_Rating, dtype: int64\n",
            "3    3105\n",
            "1    2907\n",
            "2    2317\n",
            "4    1330\n",
            "5     313\n",
            "6      28\n",
            "Name: Persons_in_Household, dtype: int64\n"
          ]
        }
      ]
    },
    {
      "cell_type": "code",
      "metadata": {
        "id": "BRIXm5kGCqRP",
        "outputId": "5219fb8b-6b9d-4e70-814a-b87b1a6d93ac"
      },
      "source": [
        "#convert ordinal variable values to numbers\n",
        "\n",
        "fix_education = {\"Education\":     {\"primary\": 1, \"secondary\": 2,\"tertiary\": 3}}\n",
        "fix_cust_rating = {\"Customer_Rating\":     {\"poor\": 1, \"fair\": 2, \"good\": 3,\"very_good\": 4,\"excellent\": 5}}\n",
        "groceries.replace(fix_education, inplace=True)\n",
        "groceries.replace(fix_cust_rating, inplace=True)\n",
        "groceries.head() "
      ],
      "execution_count": null,
      "outputs": [
        {
          "data": {
            "text/html": [
              "<div>\n",
              "<style scoped>\n",
              "    .dataframe tbody tr th:only-of-type {\n",
              "        vertical-align: middle;\n",
              "    }\n",
              "\n",
              "    .dataframe tbody tr th {\n",
              "        vertical-align: top;\n",
              "    }\n",
              "\n",
              "    .dataframe thead th {\n",
              "        text-align: right;\n",
              "    }\n",
              "</style>\n",
              "<table border=\"1\" class=\"dataframe\">\n",
              "  <thead>\n",
              "    <tr style=\"text-align: right;\">\n",
              "      <th></th>\n",
              "      <th>Customer_ID</th>\n",
              "      <th>Age</th>\n",
              "      <th>Sex</th>\n",
              "      <th>Marital_Status</th>\n",
              "      <th>Education</th>\n",
              "      <th>Income</th>\n",
              "      <th>Customer_Rating</th>\n",
              "      <th>Persons_in_Household</th>\n",
              "      <th>Occupation</th>\n",
              "      <th>Groceries</th>\n",
              "    </tr>\n",
              "  </thead>\n",
              "  <tbody>\n",
              "    <tr>\n",
              "      <th>0</th>\n",
              "      <td>1</td>\n",
              "      <td>75</td>\n",
              "      <td>male</td>\n",
              "      <td>married</td>\n",
              "      <td>1</td>\n",
              "      <td>20000</td>\n",
              "      <td>4</td>\n",
              "      <td>3</td>\n",
              "      <td>retired</td>\n",
              "      <td>citrus fruit,semi-finished bread,margarine,rea...</td>\n",
              "    </tr>\n",
              "    <tr>\n",
              "      <th>1</th>\n",
              "      <td>2</td>\n",
              "      <td>61</td>\n",
              "      <td>female</td>\n",
              "      <td>single</td>\n",
              "      <td>2</td>\n",
              "      <td>28000</td>\n",
              "      <td>3</td>\n",
              "      <td>1</td>\n",
              "      <td>housemaid</td>\n",
              "      <td>tropical fruit,yogurt,coffee</td>\n",
              "    </tr>\n",
              "    <tr>\n",
              "      <th>2</th>\n",
              "      <td>3</td>\n",
              "      <td>32</td>\n",
              "      <td>male</td>\n",
              "      <td>single</td>\n",
              "      <td>2</td>\n",
              "      <td>34000</td>\n",
              "      <td>4</td>\n",
              "      <td>1</td>\n",
              "      <td>blue-collar</td>\n",
              "      <td>whole milk</td>\n",
              "    </tr>\n",
              "    <tr>\n",
              "      <th>3</th>\n",
              "      <td>4</td>\n",
              "      <td>62</td>\n",
              "      <td>male</td>\n",
              "      <td>married</td>\n",
              "      <td>1</td>\n",
              "      <td>31000</td>\n",
              "      <td>4</td>\n",
              "      <td>3</td>\n",
              "      <td>blue-collar</td>\n",
              "      <td>pip fruit,yogurt,cream cheese,meat spreads</td>\n",
              "    </tr>\n",
              "    <tr>\n",
              "      <th>4</th>\n",
              "      <td>5</td>\n",
              "      <td>66</td>\n",
              "      <td>female</td>\n",
              "      <td>married</td>\n",
              "      <td>2</td>\n",
              "      <td>19000</td>\n",
              "      <td>3</td>\n",
              "      <td>3</td>\n",
              "      <td>retired</td>\n",
              "      <td>other vegetables,whole milk,condensed milk,lon...</td>\n",
              "    </tr>\n",
              "  </tbody>\n",
              "</table>\n",
              "</div>"
            ],
            "text/plain": [
              "   Customer_ID  Age     Sex Marital_Status  Education  Income  \\\n",
              "0            1   75    male        married          1   20000   \n",
              "1            2   61  female         single          2   28000   \n",
              "2            3   32    male         single          2   34000   \n",
              "3            4   62    male        married          1   31000   \n",
              "4            5   66  female        married          2   19000   \n",
              "\n",
              "   Customer_Rating  Persons_in_Household   Occupation  \\\n",
              "0                4                     3      retired   \n",
              "1                3                     1    housemaid   \n",
              "2                4                     1  blue-collar   \n",
              "3                4                     3  blue-collar   \n",
              "4                3                     3      retired   \n",
              "\n",
              "                                           Groceries  \n",
              "0  citrus fruit,semi-finished bread,margarine,rea...  \n",
              "1                       tropical fruit,yogurt,coffee  \n",
              "2                                         whole milk  \n",
              "3         pip fruit,yogurt,cream cheese,meat spreads  \n",
              "4  other vegetables,whole milk,condensed milk,lon...  "
            ]
          },
          "execution_count": 24,
          "metadata": {},
          "output_type": "execute_result"
        }
      ]
    },
    {
      "cell_type": "markdown",
      "metadata": {
        "id": "BLQ59e6hCqRP"
      },
      "source": [
        "As for attribute Groceries which is a set, we transform its element into lists."
      ]
    },
    {
      "cell_type": "code",
      "metadata": {
        "id": "uwxNf9VaCqRP",
        "outputId": "2d8399d0-28d8-43ef-89e4-e6197c94d632"
      },
      "source": [
        "groceries['Groceries']  = groceries['Groceries'].str.split(',')\n",
        "groceries.head(5)"
      ],
      "execution_count": null,
      "outputs": [
        {
          "data": {
            "text/html": [
              "<div>\n",
              "<style scoped>\n",
              "    .dataframe tbody tr th:only-of-type {\n",
              "        vertical-align: middle;\n",
              "    }\n",
              "\n",
              "    .dataframe tbody tr th {\n",
              "        vertical-align: top;\n",
              "    }\n",
              "\n",
              "    .dataframe thead th {\n",
              "        text-align: right;\n",
              "    }\n",
              "</style>\n",
              "<table border=\"1\" class=\"dataframe\">\n",
              "  <thead>\n",
              "    <tr style=\"text-align: right;\">\n",
              "      <th></th>\n",
              "      <th>Customer_ID</th>\n",
              "      <th>Age</th>\n",
              "      <th>Sex</th>\n",
              "      <th>Marital_Status</th>\n",
              "      <th>Education</th>\n",
              "      <th>Income</th>\n",
              "      <th>Customer_Rating</th>\n",
              "      <th>Persons_in_Household</th>\n",
              "      <th>Occupation</th>\n",
              "      <th>Groceries</th>\n",
              "    </tr>\n",
              "  </thead>\n",
              "  <tbody>\n",
              "    <tr>\n",
              "      <th>0</th>\n",
              "      <td>1</td>\n",
              "      <td>75</td>\n",
              "      <td>male</td>\n",
              "      <td>married</td>\n",
              "      <td>1</td>\n",
              "      <td>20000</td>\n",
              "      <td>4</td>\n",
              "      <td>3</td>\n",
              "      <td>retired</td>\n",
              "      <td>[citrus fruit, semi-finished bread, margarine,...</td>\n",
              "    </tr>\n",
              "    <tr>\n",
              "      <th>1</th>\n",
              "      <td>2</td>\n",
              "      <td>61</td>\n",
              "      <td>female</td>\n",
              "      <td>single</td>\n",
              "      <td>2</td>\n",
              "      <td>28000</td>\n",
              "      <td>3</td>\n",
              "      <td>1</td>\n",
              "      <td>housemaid</td>\n",
              "      <td>[tropical fruit, yogurt, coffee]</td>\n",
              "    </tr>\n",
              "    <tr>\n",
              "      <th>2</th>\n",
              "      <td>3</td>\n",
              "      <td>32</td>\n",
              "      <td>male</td>\n",
              "      <td>single</td>\n",
              "      <td>2</td>\n",
              "      <td>34000</td>\n",
              "      <td>4</td>\n",
              "      <td>1</td>\n",
              "      <td>blue-collar</td>\n",
              "      <td>[whole milk]</td>\n",
              "    </tr>\n",
              "    <tr>\n",
              "      <th>3</th>\n",
              "      <td>4</td>\n",
              "      <td>62</td>\n",
              "      <td>male</td>\n",
              "      <td>married</td>\n",
              "      <td>1</td>\n",
              "      <td>31000</td>\n",
              "      <td>4</td>\n",
              "      <td>3</td>\n",
              "      <td>blue-collar</td>\n",
              "      <td>[pip fruit, yogurt, cream cheese, meat spreads]</td>\n",
              "    </tr>\n",
              "    <tr>\n",
              "      <th>4</th>\n",
              "      <td>5</td>\n",
              "      <td>66</td>\n",
              "      <td>female</td>\n",
              "      <td>married</td>\n",
              "      <td>2</td>\n",
              "      <td>19000</td>\n",
              "      <td>3</td>\n",
              "      <td>3</td>\n",
              "      <td>retired</td>\n",
              "      <td>[other vegetables, whole milk, condensed milk,...</td>\n",
              "    </tr>\n",
              "  </tbody>\n",
              "</table>\n",
              "</div>"
            ],
            "text/plain": [
              "   Customer_ID  Age     Sex Marital_Status  Education  Income  \\\n",
              "0            1   75    male        married          1   20000   \n",
              "1            2   61  female         single          2   28000   \n",
              "2            3   32    male         single          2   34000   \n",
              "3            4   62    male        married          1   31000   \n",
              "4            5   66  female        married          2   19000   \n",
              "\n",
              "   Customer_Rating  Persons_in_Household   Occupation  \\\n",
              "0                4                     3      retired   \n",
              "1                3                     1    housemaid   \n",
              "2                4                     1  blue-collar   \n",
              "3                4                     3  blue-collar   \n",
              "4                3                     3      retired   \n",
              "\n",
              "                                           Groceries  \n",
              "0  [citrus fruit, semi-finished bread, margarine,...  \n",
              "1                   [tropical fruit, yogurt, coffee]  \n",
              "2                                       [whole milk]  \n",
              "3    [pip fruit, yogurt, cream cheese, meat spreads]  \n",
              "4  [other vegetables, whole milk, condensed milk,...  "
            ]
          },
          "execution_count": 25,
          "metadata": {},
          "output_type": "execute_result"
        }
      ]
    },
    {
      "cell_type": "markdown",
      "metadata": {
        "id": "9wsIgUfiCqRQ"
      },
      "source": [
        "We check if there are any more null values."
      ]
    },
    {
      "cell_type": "code",
      "metadata": {
        "id": "HLOlLAzkCqRQ",
        "outputId": "9f0cd4f4-fb9c-4d14-88c9-459b9ad26835"
      },
      "source": [
        "null_values = groceries[groceries.isnull().any(axis=1) == True].index.tolist()\n",
        "null_values"
      ],
      "execution_count": null,
      "outputs": [
        {
          "data": {
            "text/plain": [
              "[]"
            ]
          },
          "execution_count": 26,
          "metadata": {},
          "output_type": "execute_result"
        }
      ]
    },
    {
      "cell_type": "markdown",
      "metadata": {
        "id": "JaRitse9CqRQ"
      },
      "source": [
        "We do not have null values so we continue."
      ]
    },
    {
      "cell_type": "markdown",
      "metadata": {
        "id": "qhYy7OtGCqRQ"
      },
      "source": [
        "We created a function that calculates the similarities between 2 ids. Since we need it also for predicting the rating of a customer ,in which case we will not be having the attribute Customer_Rate, we apply a check; if the daraframe has 10 columns ,meaning that we have all the columns , then calculate the similarities based also on Customer_Rating, else remove Customer_Rating from the calculation. That way we can use the same function in predicting the rating."
      ]
    },
    {
      "cell_type": "markdown",
      "metadata": {
        "id": "4j9M-itrCqRQ"
      },
      "source": [
        "The calculation happens as follows \n",
        "- for numerical attributes     : **d(a,b) = |a - b| / (max_value - min_value)**\n",
        "- for ordinal attributes       :  **d(a,b) = |rank(a) - rank(b)| / (max_value - min_value)**\n",
        "- for categorical attributes   :  **d(a,b) = 0 if a=b , 1 if a<>b**\n",
        "- for set                      : calculate jaccard distance **dJaccard(a,b) = 1 - intersection(s1,s2)/union(s1,s2)**\n",
        "\n",
        "Then it returns the average.<br />\n",
        "The input for the function is the customer ids for which we want to make the calculation and the dataset."
      ]
    },
    {
      "cell_type": "code",
      "metadata": {
        "id": "m6t_-2QSCqRR"
      },
      "source": [
        "#create function that calculates dis for given ids\n",
        "\n",
        "def calc_dis(id1,id2,groceries):\n",
        "    \n",
        "    #Since numbering starts from 0 in the df but customers start at 1 we substract 1 to find the corresponding ids\n",
        "    #For example if we want to find disimilarities for customer 1 we actualy searching for row with id 0\n",
        "    id1 = id1 - 1\n",
        "    id2 = id2 - 1\n",
        "    \n",
        "    #numerical\n",
        "    #age\n",
        "    Age_max = groceries['Age'].max()\n",
        "    Age_min = groceries['Age'].min()\n",
        "    \n",
        "    dis_age = abs(groceries.iloc[id1].Age-groceries.iloc[id2].Age)/(Age_max-Age_min)\n",
        "    \n",
        "    #income\n",
        "    Income_max = groceries['Income'].max()\n",
        "    Income_min = groceries['Income'].min()\n",
        "\n",
        "    dis_income = abs(groceries.iloc[id1].Income-groceries.iloc[id2].Income)/(Income_max-Income_min)\n",
        "    \n",
        "    #ordinal\n",
        "    Education_max = groceries['Education'].max()\n",
        "    Education_min = groceries['Education'].min()\n",
        "    \n",
        "    dis_edu = abs(groceries.iloc[id1].Education-groceries.iloc[id2].Education)/(Education_max-Education_min)\n",
        "    \n",
        "    #Our dataset will have the column Customer_Rating only for questions 2 and 3. \n",
        "    #For the 4th we will remove it so the columns number will be 9\n",
        "    if (len(groceries.columns) == 10):\n",
        "        \n",
        "        Customer_Rating_max = groceries['Customer_Rating'].max()\n",
        "        Customer_Rating_min = groceries['Customer_Rating'].min()\n",
        "    \n",
        "        dis_cust_rat = abs(groceries.iloc[id1].Customer_Rating-groceries.iloc[id2].Customer_Rating)/(Customer_Rating_max-Customer_Rating_min)\n",
        "    \n",
        "    Persons_in_Household_max = groceries['Persons_in_Household'].max()\n",
        "    Persons_in_Household_min = groceries['Persons_in_Household'].min()\n",
        "    \n",
        "    dis_per = abs(groceries.iloc[id1].Persons_in_Household-groceries.iloc[id2].Persons_in_Household)/(Persons_in_Household_max-Persons_in_Household_min)\n",
        "    \n",
        "    #categorical\n",
        "    #sex\n",
        "    if groceries.iloc[id1].Sex == groceries.iloc[id2].Sex:\n",
        "        dis_sex = 0\n",
        "    else:\n",
        "        dis_sex = 1\n",
        "    \n",
        "    #Marital_Status\n",
        "    if groceries.iloc[id1].Marital_Status == groceries.iloc[id2].Marital_Status:\n",
        "        dis_mar = 0\n",
        "    else:\n",
        "        dis_mar = 1\n",
        "        \n",
        "    #Occupation\n",
        "    if groceries.iloc[id1].Occupation == groceries.iloc[id2].Occupation:\n",
        "        dis_occ = 0\n",
        "    else:\n",
        "        dis_occ = 1    \n",
        "    \n",
        "    #Groceries\n",
        "    intersection = len(list(set(groceries.iloc[id1].Groceries).intersection(groceries.iloc[id2].Groceries)))\n",
        "    union = (len(groceries.iloc[id1].Groceries) + len(groceries.iloc[id2].Groceries)) - intersection\n",
        "    dis_groc = 1 - (float(intersection) / union)\n",
        "    \n",
        "    \n",
        "    #return the average\n",
        "    if (len(groceries.columns) == 10):\n",
        "        return (dis_age+dis_income+dis_edu+dis_cust_rat+dis_per+dis_sex+dis_mar+dis_occ+dis_groc)/9\n",
        "    else:\n",
        "        return (dis_age+dis_income+dis_edu+dis_per+dis_sex+dis_mar+dis_occ+dis_groc)/8"
      ],
      "execution_count": null,
      "outputs": []
    },
    {
      "cell_type": "markdown",
      "metadata": {
        "id": "aK6SDR1xCqRS"
      },
      "source": [
        "Since our machines could not handle running the function for all customer ids and create the whole dissimilarity matrices, we have 3 examples of calling the function."
      ]
    },
    {
      "cell_type": "markdown",
      "metadata": {
        "id": "rpyH43TxCqRS"
      },
      "source": [
        "For example calculate the disimilarity between customer 1 and 7749, then 4 and 653 and 73 with 2078."
      ]
    },
    {
      "cell_type": "code",
      "metadata": {
        "id": "8nvjJh3xCqRS",
        "outputId": "2a59e8b3-2f28-44c4-9229-d587e03e9b5e"
      },
      "source": [
        "#example calculate dissimilarity\n",
        "print(calc_dis(1,7749,groceries))\n",
        "print(calc_dis(4,653,groceries))\n",
        "print(calc_dis(73,2078,groceries))"
      ],
      "execution_count": null,
      "outputs": [
        {
          "name": "stdout",
          "output_type": "stream",
          "text": [
            "0.1002978502978503\n",
            "0.5994690494690494\n",
            "0.30852110852110853\n"
          ]
        }
      ]
    },
    {
      "cell_type": "markdown",
      "metadata": {
        "id": "7YCJfbyzCqRS"
      },
      "source": [
        "We can se that customer 1 is quite similar to customer 7749 but no so much to customer 653. If the disimilarity score was 1 then they would be completely different."
      ]
    },
    {
      "cell_type": "markdown",
      "metadata": {
        "id": "XSrT6FzGCqRS"
      },
      "source": [
        "##  Nearest Neighbor (NN) search"
      ]
    },
    {
      "cell_type": "markdown",
      "metadata": {
        "id": "0SkGA_lZCqRS"
      },
      "source": [
        "In order to find the 10 most similar customers we created a function that takes as input the customer id for whom we want to make the search and the dataset. Then it calls the previous function and calculates the similarities for all the other customers (except the one for which we perform the search). The results are stored in a dictionary and then sorted in a list by ascending order. We return the first 10, the ones with the smallest score since we want similarities."
      ]
    },
    {
      "cell_type": "code",
      "metadata": {
        "id": "1QARWrgkCqRT"
      },
      "source": [
        "def calc_10nn(id,groceries):\n",
        "    dis_dic = {}\n",
        "    for i, row in groceries.iterrows():\n",
        "        #we exclude the id for which the search is happening\n",
        "        if i != id :\n",
        "            #call previous function in order to calculate dissimilarity\n",
        "            dis_dic[i] = calc_dis(id,i,groceries)\n",
        "    #sort the dictionary and store it in a list ascending\n",
        "    dis_list = sorted(dis_dic.items(), key=lambda x: x[1])\n",
        "    #we need similar so take top 10 since we sorted on ascending order\n",
        "    sort_dis_list = dis_list[:10]\n",
        "    #insert column names\n",
        "    sort_dis_list.insert(0,('id','similarity'))\n",
        "    return sort_dis_list"
      ],
      "execution_count": null,
      "outputs": []
    },
    {
      "cell_type": "markdown",
      "metadata": {
        "id": "dOV8-uNHCqRT"
      },
      "source": [
        "For testing purposes we print the 10 NN most similar customers to customer 1."
      ]
    },
    {
      "cell_type": "code",
      "metadata": {
        "id": "vffW9Oi3CqRT",
        "outputId": "8b6d87b0-0a22-457b-adce-32d5753e5fd5"
      },
      "source": [
        "print (tabulate(calc_10nn(1,groceries),headers='firstrow',tablefmt='fancy_grid'))"
      ],
      "execution_count": null,
      "outputs": [
        {
          "name": "stdout",
          "output_type": "stream",
          "text": [
            "╒══════╤══════════════╕\n",
            "│   id │   similarity │\n",
            "╞══════╪══════════════╡\n",
            "│ 7749 │     0.100298 │\n",
            "├──────┼──────────────┤\n",
            "│ 7931 │     0.101036 │\n",
            "├──────┼──────────────┤\n",
            "│ 9514 │     0.110464 │\n",
            "├──────┼──────────────┤\n",
            "│  628 │     0.112073 │\n",
            "├──────┼──────────────┤\n",
            "│ 6918 │     0.114016 │\n",
            "├──────┼──────────────┤\n",
            "│ 4230 │     0.119632 │\n",
            "├──────┼──────────────┤\n",
            "│ 3148 │     0.121238 │\n",
            "├──────┼──────────────┤\n",
            "│ 4647 │     0.121652 │\n",
            "├──────┼──────────────┤\n",
            "│ 2105 │     0.122999 │\n",
            "├──────┼──────────────┤\n",
            "│ 8050 │     0.124605 │\n",
            "╘══════╧══════════════╛\n"
          ]
        }
      ]
    },
    {
      "cell_type": "markdown",
      "metadata": {
        "id": "LEcGB23pCqRU"
      },
      "source": [
        "We can see that they are exactly the same with the ones given to us by the assingment for customer 1, so we procceed with the customers for which we want to find the 10 NN most similars."
      ]
    },
    {
      "cell_type": "markdown",
      "metadata": {
        "id": "GH7PE7deCqRU"
      },
      "source": [
        "- For customer 73"
      ]
    },
    {
      "cell_type": "code",
      "metadata": {
        "id": "kpkRbhgRCqRU",
        "outputId": "0fab26fd-4d1d-49f8-e572-774faca23359"
      },
      "source": [
        "print (tabulate(calc_10nn(73,groceries),headers='firstrow',tablefmt='fancy_grid'))"
      ],
      "execution_count": null,
      "outputs": [
        {
          "name": "stdout",
          "output_type": "stream",
          "text": [
            "╒══════╤══════════════╕\n",
            "│   id │   similarity │\n",
            "╞══════╪══════════════╡\n",
            "│ 1846 │     0.122537 │\n",
            "├──────┼──────────────┤\n",
            "│ 1291 │     0.129863 │\n",
            "├──────┼──────────────┤\n",
            "│ 1203 │     0.143512 │\n",
            "├──────┼──────────────┤\n",
            "│ 5881 │     0.146775 │\n",
            "├──────┼──────────────┤\n",
            "│ 1627 │     0.149068 │\n",
            "├──────┼──────────────┤\n",
            "│ 3953 │     0.152512 │\n",
            "├──────┼──────────────┤\n",
            "│ 5922 │     0.156533 │\n",
            "├──────┼──────────────┤\n",
            "│ 6904 │     0.157854 │\n",
            "├──────┼──────────────┤\n",
            "│ 8881 │     0.159311 │\n",
            "├──────┼──────────────┤\n",
            "│ 3623 │     0.160425 │\n",
            "╘══════╧══════════════╛\n"
          ]
        }
      ]
    },
    {
      "cell_type": "markdown",
      "metadata": {
        "id": "PSp2s_uyCqRU"
      },
      "source": [
        "- For customer 563"
      ]
    },
    {
      "cell_type": "code",
      "metadata": {
        "id": "56Q6Al0SCqRU",
        "outputId": "e4d54c6d-24be-442c-8c6a-5963ad5fb452"
      },
      "source": [
        "print (tabulate(calc_10nn(563,groceries),headers='firstrow',tablefmt='fancy_grid'))"
      ],
      "execution_count": null,
      "outputs": [
        {
          "name": "stdout",
          "output_type": "stream",
          "text": [
            "╒══════╤══════════════╕\n",
            "│   id │   similarity │\n",
            "╞══════╪══════════════╡\n",
            "│ 3634 │    0.0696193 │\n",
            "├──────┼──────────────┤\n",
            "│ 6168 │    0.0929811 │\n",
            "├──────┼──────────────┤\n",
            "│ 2839 │    0.118842  │\n",
            "├──────┼──────────────┤\n",
            "│ 6196 │    0.124657  │\n",
            "├──────┼──────────────┤\n",
            "│ 2766 │    0.126289  │\n",
            "├──────┼──────────────┤\n",
            "│ 8108 │    0.12647   │\n",
            "├──────┼──────────────┤\n",
            "│  559 │    0.129656  │\n",
            "├──────┼──────────────┤\n",
            "│ 6929 │    0.131572  │\n",
            "├──────┼──────────────┤\n",
            "│ 9578 │    0.13402   │\n",
            "├──────┼──────────────┤\n",
            "│ 8270 │    0.13639   │\n",
            "╘══════╧══════════════╛\n"
          ]
        }
      ]
    },
    {
      "cell_type": "markdown",
      "metadata": {
        "id": "neK8YMo-CqRU"
      },
      "source": [
        "- For customer 1603"
      ]
    },
    {
      "cell_type": "code",
      "metadata": {
        "id": "FUYYtcZ2CqRV",
        "outputId": "1c19ef61-ea2d-46a7-c112-3db9db474afa"
      },
      "source": [
        "print (tabulate(calc_10nn(1603,groceries),headers='firstrow',tablefmt='fancy_grid'))"
      ],
      "execution_count": null,
      "outputs": [
        {
          "name": "stdout",
          "output_type": "stream",
          "text": [
            "╒══════╤══════════════╕\n",
            "│   id │   similarity │\n",
            "╞══════╪══════════════╡\n",
            "│ 7345 │     0.131391 │\n",
            "├──────┼──────────────┤\n",
            "│ 9260 │     0.139128 │\n",
            "├──────┼──────────────┤\n",
            "│ 7335 │     0.140089 │\n",
            "├──────┼──────────────┤\n",
            "│  568 │     0.153047 │\n",
            "├──────┼──────────────┤\n",
            "│  109 │     0.153587 │\n",
            "├──────┼──────────────┤\n",
            "│ 4814 │     0.154066 │\n",
            "├──────┼──────────────┤\n",
            "│ 6751 │     0.160826 │\n",
            "├──────┼──────────────┤\n",
            "│ 4628 │     0.162134 │\n",
            "├──────┼──────────────┤\n",
            "│  168 │     0.164025 │\n",
            "├──────┼──────────────┤\n",
            "│ 6841 │     0.167444 │\n",
            "╘══════╧══════════════╛\n"
          ]
        }
      ]
    },
    {
      "cell_type": "markdown",
      "metadata": {
        "id": "9I2ZsCU1CqRV"
      },
      "source": [
        "- For customer 2200"
      ]
    },
    {
      "cell_type": "code",
      "metadata": {
        "id": "YxTXCWhdCqRV",
        "outputId": "57313f6b-6ae0-4ee3-dbc8-9764c167bdfa"
      },
      "source": [
        "print (tabulate(calc_10nn(2200,groceries),headers='firstrow',tablefmt='fancy_grid'))"
      ],
      "execution_count": null,
      "outputs": [
        {
          "name": "stdout",
          "output_type": "stream",
          "text": [
            "╒══════╤══════════════╕\n",
            "│   id │   similarity │\n",
            "╞══════╪══════════════╡\n",
            "│  403 │     0.144147 │\n",
            "├──────┼──────────────┤\n",
            "│ 7497 │     0.157459 │\n",
            "├──────┼──────────────┤\n",
            "│ 8884 │     0.184466 │\n",
            "├──────┼──────────────┤\n",
            "│ 6722 │     0.186895 │\n",
            "├──────┼──────────────┤\n",
            "│ 5160 │     0.187128 │\n",
            "├──────┼──────────────┤\n",
            "│ 3551 │     0.195014 │\n",
            "├──────┼──────────────┤\n",
            "│ 5330 │     0.196128 │\n",
            "├──────┼──────────────┤\n",
            "│ 4928 │     0.20922  │\n",
            "├──────┼──────────────┤\n",
            "│ 6942 │     0.21317  │\n",
            "├──────┼──────────────┤\n",
            "│ 2667 │     0.223906 │\n",
            "╘══════╧══════════════╛\n"
          ]
        }
      ]
    },
    {
      "cell_type": "markdown",
      "metadata": {
        "id": "IGAsvuhACqRV"
      },
      "source": [
        "- For customer 3703"
      ]
    },
    {
      "cell_type": "code",
      "metadata": {
        "id": "HmTyy9ZpCqRV",
        "outputId": "cbb0323d-448b-4fdd-c68f-a1be2dc202d4"
      },
      "source": [
        "print (tabulate(calc_10nn(3703,groceries),headers='firstrow',tablefmt='fancy_grid'))"
      ],
      "execution_count": null,
      "outputs": [
        {
          "name": "stdout",
          "output_type": "stream",
          "text": [
            "╒══════╤══════════════╕\n",
            "│   id │   similarity │\n",
            "╞══════╪══════════════╡\n",
            "│ 9942 │     0.120243 │\n",
            "├──────┼──────────────┤\n",
            "│ 1604 │     0.132479 │\n",
            "├──────┼──────────────┤\n",
            "│ 4838 │     0.136519 │\n",
            "├──────┼──────────────┤\n",
            "│ 3352 │     0.13841  │\n",
            "├──────┼──────────────┤\n",
            "│ 1837 │     0.144406 │\n",
            "├──────┼──────────────┤\n",
            "│ 3990 │     0.145034 │\n",
            "├──────┼──────────────┤\n",
            "│ 7194 │     0.14517  │\n",
            "├──────┼──────────────┤\n",
            "│ 7784 │     0.145247 │\n",
            "├──────┼──────────────┤\n",
            "│  374 │     0.145649 │\n",
            "├──────┼──────────────┤\n",
            "│ 6793 │     0.146853 │\n",
            "╘══════╧══════════════╛\n"
          ]
        }
      ]
    },
    {
      "cell_type": "markdown",
      "metadata": {
        "id": "qbG_5j4-CqRV"
      },
      "source": [
        "- For customer 4263"
      ]
    },
    {
      "cell_type": "code",
      "metadata": {
        "id": "TXfhDvTyCqRW",
        "outputId": "99a6f9d4-c27d-44e1-a1cc-aa5949816bae"
      },
      "source": [
        "print (tabulate(calc_10nn(4263,groceries),headers='firstrow',tablefmt='fancy_grid'))"
      ],
      "execution_count": null,
      "outputs": [
        {
          "name": "stdout",
          "output_type": "stream",
          "text": [
            "╒══════╤══════════════╕\n",
            "│   id │   similarity │\n",
            "╞══════╪══════════════╡\n",
            "│ 9536 │     0.119031 │\n",
            "├──────┼──────────────┤\n",
            "│ 4990 │     0.138546 │\n",
            "├──────┼──────────────┤\n",
            "│ 9051 │     0.14321  │\n",
            "├──────┼──────────────┤\n",
            "│ 2195 │     0.143373 │\n",
            "├──────┼──────────────┤\n",
            "│ 5829 │     0.155875 │\n",
            "├──────┼──────────────┤\n",
            "│ 3822 │     0.159324 │\n",
            "├──────┼──────────────┤\n",
            "│ 6183 │     0.160658 │\n",
            "├──────┼──────────────┤\n",
            "│ 5427 │     0.16229  │\n",
            "├──────┼──────────────┤\n",
            "│ 1896 │     0.16826  │\n",
            "├──────┼──────────────┤\n",
            "│ 5755 │     0.174091 │\n",
            "╘══════╧══════════════╛\n"
          ]
        }
      ]
    },
    {
      "cell_type": "markdown",
      "metadata": {
        "id": "QGT17K4SCqRW"
      },
      "source": [
        "- For customer 5300"
      ]
    },
    {
      "cell_type": "code",
      "metadata": {
        "id": "oiXZy9ASCqRW",
        "outputId": "6b59e1b7-5c78-477d-d009-642d4dc7ad0d"
      },
      "source": [
        "print (tabulate(calc_10nn(5300,groceries),headers='firstrow',tablefmt='fancy_grid'))"
      ],
      "execution_count": null,
      "outputs": [
        {
          "name": "stdout",
          "output_type": "stream",
          "text": [
            "╒══════╤══════════════╕\n",
            "│   id │   similarity │\n",
            "╞══════╪══════════════╡\n",
            "│ 8497 │     0.126418 │\n",
            "├──────┼──────────────┤\n",
            "│ 8982 │     0.127739 │\n",
            "├──────┼──────────────┤\n",
            "│ 8711 │     0.128348 │\n",
            "├──────┼──────────────┤\n",
            "│ 2110 │     0.13121  │\n",
            "├──────┼──────────────┤\n",
            "│ 7457 │     0.134633 │\n",
            "├──────┼──────────────┤\n",
            "│ 3533 │     0.135548 │\n",
            "├──────┼──────────────┤\n",
            "│ 3470 │     0.138125 │\n",
            "├──────┼──────────────┤\n",
            "│ 8068 │     0.138177 │\n",
            "├──────┼──────────────┤\n",
            "│ 1999 │     0.13885  │\n",
            "├──────┼──────────────┤\n",
            "│ 8905 │     0.14144  │\n",
            "╘══════╧══════════════╛\n"
          ]
        }
      ]
    },
    {
      "cell_type": "markdown",
      "metadata": {
        "id": "7m1lFpcCCqRW"
      },
      "source": [
        "- For customer 6129"
      ]
    },
    {
      "cell_type": "code",
      "metadata": {
        "id": "VBjT_imACqRW",
        "outputId": "8eff6377-dd60-4c40-f90a-a43a82dd5d71"
      },
      "source": [
        "print (tabulate(calc_10nn(6129,groceries),headers='firstrow',tablefmt='fancy_grid'))"
      ],
      "execution_count": null,
      "outputs": [
        {
          "name": "stdout",
          "output_type": "stream",
          "text": [
            "╒══════╤══════════════╕\n",
            "│   id │   similarity │\n",
            "╞══════╪══════════════╡\n",
            "│ 1082 │     0.109677 │\n",
            "├──────┼──────────────┤\n",
            "│ 6303 │     0.12252  │\n",
            "├──────┼──────────────┤\n",
            "│ 2029 │     0.128594 │\n",
            "├──────┼──────────────┤\n",
            "│ 7563 │     0.129656 │\n",
            "├──────┼──────────────┤\n",
            "│ 4933 │     0.131443 │\n",
            "├──────┼──────────────┤\n",
            "│ 6387 │     0.133074 │\n",
            "├──────┼──────────────┤\n",
            "│ 7870 │     0.134732 │\n",
            "├──────┼──────────────┤\n",
            "│ 5680 │     0.135302 │\n",
            "├──────┼──────────────┤\n",
            "│ 7557 │     0.137212 │\n",
            "├──────┼──────────────┤\n",
            "│ 5301 │     0.138203 │\n",
            "╘══════╧══════════════╛\n"
          ]
        }
      ]
    },
    {
      "cell_type": "markdown",
      "metadata": {
        "id": "j4zaojL2CqRW"
      },
      "source": [
        "- For customer 7800"
      ]
    },
    {
      "cell_type": "code",
      "metadata": {
        "id": "1Hfh0RG0CqRW",
        "outputId": "9956ffd8-73f5-428b-eadb-cc1f34ffb98b"
      },
      "source": [
        "print (tabulate(calc_10nn(7800,groceries),headers='firstrow',tablefmt='fancy_grid'))"
      ],
      "execution_count": null,
      "outputs": [
        {
          "name": "stdout",
          "output_type": "stream",
          "text": [
            "╒══════╤══════════════╕\n",
            "│   id │   similarity │\n",
            "╞══════╪══════════════╡\n",
            "│ 2126 │     0.117923 │\n",
            "├──────┼──────────────┤\n",
            "│  186 │     0.12129  │\n",
            "├──────┼──────────────┤\n",
            "│ 7470 │     0.144911 │\n",
            "├──────┼──────────────┤\n",
            "│ 2342 │     0.161577 │\n",
            "├──────┼──────────────┤\n",
            "│ 9116 │     0.165899 │\n",
            "├──────┼──────────────┤\n",
            "│  673 │     0.175136 │\n",
            "├──────┼──────────────┤\n",
            "│ 8293 │     0.177596 │\n",
            "├──────┼──────────────┤\n",
            "│ 1251 │     0.181974 │\n",
            "├──────┼──────────────┤\n",
            "│ 8212 │     0.181974 │\n",
            "├──────┼──────────────┤\n",
            "│ 1847 │     0.188889 │\n",
            "╘══════╧══════════════╛\n"
          ]
        }
      ]
    },
    {
      "cell_type": "markdown",
      "metadata": {
        "id": "8A1ZQh2tCqRX"
      },
      "source": [
        "- For customer 8555"
      ]
    },
    {
      "cell_type": "code",
      "metadata": {
        "id": "bmSXkjyhCqRX",
        "outputId": "886d848d-726a-4354-a969-47370b467915"
      },
      "source": [
        "print (tabulate(calc_10nn(8555,groceries),headers='firstrow',tablefmt='fancy_grid'))"
      ],
      "execution_count": null,
      "outputs": [
        {
          "name": "stdout",
          "output_type": "stream",
          "text": [
            "╒══════╤══════════════╕\n",
            "│   id │   similarity │\n",
            "╞══════╪══════════════╡\n",
            "│ 1486 │     0.123051 │\n",
            "├──────┼──────────────┤\n",
            "│ 6092 │     0.12476  │\n",
            "├──────┼──────────────┤\n",
            "│ 8732 │     0.131494 │\n",
            "├──────┼──────────────┤\n",
            "│ 3012 │     0.1331   │\n",
            "├──────┼──────────────┤\n",
            "│ 6823 │     0.133307 │\n",
            "├──────┼──────────────┤\n",
            "│ 3320 │     0.138436 │\n",
            "├──────┼──────────────┤\n",
            "│ 2691 │     0.139938 │\n",
            "├──────┼──────────────┤\n",
            "│ 3894 │     0.141777 │\n",
            "├──────┼──────────────┤\n",
            "│ 9336 │     0.141777 │\n",
            "├──────┼──────────────┤\n",
            "│ 5140 │     0.142547 │\n",
            "╘══════╧══════════════╛\n"
          ]
        }
      ]
    },
    {
      "cell_type": "markdown",
      "metadata": {
        "id": "2mUQuF7uCqRX"
      },
      "source": [
        "##  Customer rating prediction"
      ]
    },
    {
      "cell_type": "markdown",
      "metadata": {
        "id": "eU-z5-GCCqRX"
      },
      "source": [
        "We predict the rating of a customer with 2 methods : \n",
        "- The first is by calculating the average rating : we created a function that given a customer id and the dataset it calls the previous function in order to calculate the 10 most similar customers. The diference in the calling is that it first removes the column Customer_Rating from the dataset , since this is the one we want to predict. Note that as we noted earlier the function that calculates similarities will not take into account column Customer_Rating when the dataset is not full;having 10 columns. In this case the dataset has 9. After this the function sums the rating of the 10 most similar customers and returns the average rounded to the closest integer.\n",
        "- The second is by calculating the weigthed average rating : we created a function that operates as the previous but it now calculates the weigthed average rounded to the closest integer."
      ]
    },
    {
      "cell_type": "code",
      "metadata": {
        "id": "S7g1juV8CqRX"
      },
      "source": [
        "def pred_rating_avg(id,groceries):\n",
        "    groceries_pred = groceries.drop(['Customer_Rating'], axis=1).copy()\n",
        "    #first find the 10nn most similar customers\n",
        "    sim_cust = calc_10nn(id,groceries_pred)\n",
        "    rating = 0\n",
        "    for list in sim_cust:\n",
        "        #exclude the first row which is the header\n",
        "        if list[0] != 'id':\n",
        "            customer = list[0]\n",
        "            #calculate the rating sum of top 10 most similar \n",
        "            rating = rating + groceries.iloc[customer].Customer_Rating\n",
        "    #return the average\n",
        "    return int(round(rating/10))"
      ],
      "execution_count": null,
      "outputs": []
    },
    {
      "cell_type": "code",
      "metadata": {
        "id": "6T0ZeH8KCqRY"
      },
      "source": [
        "def pred_rating_weight(id,groceries):\n",
        "    groceries_pred = groceries.drop(['Customer_Rating'], axis=1).copy()\n",
        "    #first find the 10nn most similar customers\n",
        "    sim_cust = calc_10nn(id,groceries_pred)\n",
        "    sum_similarities = 0\n",
        "    weight_rating = 0\n",
        "    for list in sim_cust:\n",
        "        #exclude the first row which is the header\n",
        "        if list[0] != 'id':\n",
        "            customer = list[0]\n",
        "            similarity = list[1]\n",
        "            #calculate the sum of similarities\n",
        "            sum_similarities = sum_similarities + similarity\n",
        "            #calculate the multiplication of similarity score and customer rating\n",
        "            sim_rank = similarity*groceries.iloc[customer].Customer_Rating\n",
        "            weight_rating = weight_rating + sim_rank\n",
        "    #return the weight average\n",
        "    return int(round(weight_rating/sum_similarities))"
      ],
      "execution_count": null,
      "outputs": []
    },
    {
      "cell_type": "markdown",
      "metadata": {
        "id": "tAZdMpArCqRY"
      },
      "source": [
        "Fo example customer 1 has 3 as his rating."
      ]
    },
    {
      "cell_type": "code",
      "metadata": {
        "id": "5FAsQoMRCqRY",
        "outputId": "5497a90a-858c-41ab-d4a3-b30d1ae4bc76"
      },
      "source": [
        "groceries.iloc[1].Customer_Rating"
      ],
      "execution_count": null,
      "outputs": [
        {
          "data": {
            "text/plain": [
              "3"
            ]
          },
          "execution_count": 52,
          "metadata": {},
          "output_type": "execute_result"
        }
      ]
    },
    {
      "cell_type": "markdown",
      "metadata": {
        "id": "q-VbDO_YCqRY"
      },
      "source": [
        "If we predict his rating using the average rating of his/her 10 most similar customers we get 4 (if we do not round them in the closest integer the result is 3,5)."
      ]
    },
    {
      "cell_type": "code",
      "metadata": {
        "id": "4oNw85I5CqRY",
        "outputId": "4d63e903-dac4-47b7-b1f3-57f8237ef965"
      },
      "source": [
        "pred_rating_avg(1,groceries)"
      ],
      "execution_count": null,
      "outputs": [
        {
          "data": {
            "text/plain": [
              "4"
            ]
          },
          "execution_count": 53,
          "metadata": {},
          "output_type": "execute_result"
        }
      ]
    },
    {
      "cell_type": "markdown",
      "metadata": {
        "id": "hpuETBTBCqRY"
      },
      "source": [
        "Using the weighted average the result is also 4 (3,55 without rounding)."
      ]
    },
    {
      "cell_type": "code",
      "metadata": {
        "id": "9XjOYEEqCqRY",
        "outputId": "c8c77620-9048-4773-f9dc-69423654af66"
      },
      "source": [
        "pred_rating_weight(1,groceries)"
      ],
      "execution_count": null,
      "outputs": [
        {
          "data": {
            "text/plain": [
              "4"
            ]
          },
          "execution_count": 31,
          "metadata": {},
          "output_type": "execute_result"
        }
      ]
    },
    {
      "cell_type": "markdown",
      "metadata": {
        "id": "LAkixhWnCqRZ"
      },
      "source": [
        "To test our predictions we will calculate the Mean Prediction Error that measures the expected distance between what the predictor predicts for a specific value and what the true value is. In our case we will calculate the mean prediction error for the 50 first records."
      ]
    },
    {
      "cell_type": "markdown",
      "metadata": {
        "id": "_WCQpnuZCqRZ"
      },
      "source": [
        "For that purpose we created a function that takes as input the number of customers for which we want to calculate the Mean Prediction Error and the dataset. Then for all that customers it predicts his/her rating using both methods and finds the sum of error by substracting the actual value from the predicted one. Then it returns the error divided by the number of the input customers."
      ]
    },
    {
      "cell_type": "code",
      "metadata": {
        "id": "yPYGdcNZCqRZ"
      },
      "source": [
        "def mpe(n,groceries):\n",
        "    sum_error_avg = 0\n",
        "    sum_error_weight = 0\n",
        "    for i in range(n):\n",
        "        #find the average prediction\n",
        "        rating_avg = pred_rating_avg(i,groceries)\n",
        "        #find the weighted average prediction\n",
        "        rating_weight = pred_rating_weight(i,groceries)\n",
        "        #calculate error for average prediction\n",
        "        error_avg = abs(rating_avg - groceries.iloc[i].Customer_Rating )\n",
        "        #calculate error for weighted average prediction\n",
        "        error_weight = abs(rating_avg - groceries.iloc[i].Customer_Rating )\n",
        "        #sum the results\n",
        "        sum_error_avg = sum_error_avg + error_avg \n",
        "        sum_error_weight = sum_error_weight + error_weight\n",
        "        \n",
        "    #return the mean prediction error for both methods\n",
        "    return sum_error_avg/n , sum_error_weight/n\n"
      ],
      "execution_count": null,
      "outputs": []
    },
    {
      "cell_type": "markdown",
      "metadata": {
        "id": "OnI9a8ruCqRZ"
      },
      "source": [
        "We call the function for the first 50 customers."
      ]
    },
    {
      "cell_type": "code",
      "metadata": {
        "id": "JcxjgMLUCqRZ"
      },
      "source": [
        "mpe = mpe(50,groceries)"
      ],
      "execution_count": null,
      "outputs": []
    },
    {
      "cell_type": "code",
      "metadata": {
        "id": "B-gWkplbCqRZ",
        "outputId": "5c2bf708-1632-49e9-e17b-d198dddc3e02"
      },
      "source": [
        "print('Mean Prediction Error for average prediction :  ' ,mpe[0])\n",
        "print('Mean Prediction Error for weighted average prediction : ' ,mpe[1])"
      ],
      "execution_count": null,
      "outputs": [
        {
          "name": "stdout",
          "output_type": "stream",
          "text": [
            "Mean Prediction Error for average prediction :   0.82\n",
            "Mean Prediction Error for weighted average prediction :  0.82\n"
          ]
        }
      ]
    },
    {
      "cell_type": "markdown",
      "metadata": {
        "id": "IvrB2hHRCqRZ"
      },
      "source": [
        "We can see that the Mean Prediction Error for both methods is 0.82. This means that our predictions are not excellent  but neither too bad as the maximum error value is 4 (for example worst case scenario is the real value to be 5 and we predict 1). So, 0.82 means that we are almost certain that each result will not be further than one rating category. The error is the same in both methods because we round them to the closest integer. If we did not rounded them then the errors would be diferent, althought close to each other (as depicted before with the example with customer 1)."
      ]
    }
  ]
}